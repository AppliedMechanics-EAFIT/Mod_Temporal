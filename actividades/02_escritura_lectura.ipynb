{
 "cells": [
  {
   "cell_type": "markdown",
   "metadata": {},
   "source": [
    "# Actividad de lectura y escritura"
   ]
  },
  {
   "cell_type": "markdown",
   "metadata": {},
   "source": [
    "## Integrantes"
   ]
  },
  {
   "cell_type": "markdown",
   "metadata": {},
   "source": [
    "- Integrante 1, código\n",
    "\n",
    "- Integrante 1, código\n",
    "\n",
    "- Integrante 1, código"
   ]
  },
  {
   "cell_type": "markdown",
   "metadata": {},
   "source": [
    "## Descripción"
   ]
  },
  {
   "cell_type": "markdown",
   "metadata": {},
   "source": [
    "### Objetivo\n",
    "\n",
    "Calcular el volumen y el segundo momento de área para un elemento con sección transversal variable.\n",
    "\n",
    "Un ejemplo se muestra a continuación.\n",
    "\n",
    "\n",
    "<center>\n",
    "    <img src=\"img/tubo_seccion_variable.svg\"\n",
    "         alt=\"Esquema de un tubo con sección variable.\"\n",
    "         width=\"400\"/>\n",
    "</center>\n",
    "\n",
    "\n",
    "### Descripción\n",
    "\n",
    "Se debe:\n",
    "\n",
    "1. Leer los datos de un archivo con los datos del tubo. La sección\n",
    "[Formato archivo de entrada](#Formato-archivo-de-entrada) describe\n",
    "formato de estos archivos.\n",
    "\n",
    "2. Calcular el volumen del tubo e imprimirlo.\n",
    "\n",
    "3. Calcular la sección transversal para cada sección del tubo.\n",
    "\n",
    "4. Calcular el segundo momento de área para cada sección del tubo.\n",
    "\n",
    "5. Realizar un gráfico 2×2 en el que se presenten:\n",
    "\n",
    "\n",
    "### Formato archivo de entrada\n",
    "\n",
    "Los datos se deben leer de un archivo de texto con 3 columnas que tiene el siguiente formato:\n",
    "\n",
    "- Primera columna: Posición medida en milímetros.\n",
    "\n",
    "- Segunda columna: Radio medio, en milímetros.\n",
    "\n",
    "- Tercera columna: Grosor, en milímetros.\n",
    "\n",
    "Un ejemplo se muestra a continuación.\n",
    "\n",
    "```\n",
    "# Posicion (mm) Radio medio (mm) Grosor (mm)\n",
    "0.000\t30.000\t8.000\n",
    "5.455\t30.205\t8.000\n",
    "10.909\t30.412\t8.000\n",
    ".       .       .\n",
    ".       .       .\n",
    ".       .       .\n",
    "```\n",
    "\n",
    "Adjunto a este archivo se encuentra el archivo `tubo_seccion_variable.txt`, para\n",
    "el cual\n",
    "\n",
    "$$V_\\text{analítico} = 1162982 \\text{ mm}^3\\, ,$$\n",
    "\n",
    "y los gráficos esperados son los siguientes\n",
    "\n",
    "\n",
    "<center>\n",
    "    <img src=\"img/tubo_seccion_variable-res.svg\"\n",
    "         alt=\"Gráficos esperados para el ejemplo dado.\"\n",
    "         width=\"500\"/>\n",
    "</center>"
   ]
  },
  {
   "cell_type": "markdown",
   "metadata": {},
   "source": [
    "## Entregables\n",
    "\n",
    "1. Notebook de Jupyter con el siguiente contenido:\n",
    "    \n",
    "    1. Código que resuelve el problema planteado.\n",
    "    \n",
    "    2. Mini-informe describiento el procedimiento usado y referencias (si se usaron)."
   ]
  },
  {
   "cell_type": "markdown",
   "metadata": {},
   "source": [
    "## Evaluación\n",
    "\n",
    "La evaluación se subdivide en documentación (30%) y el código (70%).\n",
    "\n",
    "Los aspectos a tener en cuenta son:\n",
    "\n",
    "### Documentación\n",
    "\n",
    "1. Contenido (20%): El documento debe describir el procedimiento realizado\n",
    "   y contener la gráfica mencionada anteriormente.\n",
    "\n",
    "2. Presentación (10%): El documento debe estar organizado.\n",
    "\n",
    "### Código\n",
    "\n",
    "1. Organización (20%): El código debe estar organizado y tener comentarios que permitan\n",
    "   su entendimiento.\n",
    "\n",
    "2. Ejecución (20%): El Notebook debe ejecutar sin ninguna clase de error.\n",
    "\n",
    "3. Solución del problema (30%): Los resultados obtenidos para diferentes casos de prueba\n",
    "   son los esperados."
   ]
  },
  {
   "cell_type": "markdown",
   "metadata": {},
   "source": [
    "<div class=\"alert alert-warning\">\n",
    "\n",
    "**Notas**\n",
    "    \n",
    "- La tarea debe realizarla cada grupo.\n",
    "\n",
    "- La tarea deberá ser sustentada cuando se considere necesario, en cuyo caso, la nota\n",
    "de la misma dependerá en su totalidad de dicha sustentación.\n",
    "\n",
    "- Debe anexar un comprimido en formato zip y cuyo nombre del comprimido sea el\n",
    "nombre del equipo asignado en EAFIT Interactiva.\n",
    "    \n",
    "</div>"
   ]
  },
  {
   "cell_type": "markdown",
   "metadata": {},
   "source": [
    "## Importación bibliotecas"
   ]
  },
  {
   "cell_type": "code",
   "execution_count": null,
   "metadata": {},
   "outputs": [],
   "source": [
    "import numpy as np\n",
    "import matplotlib.pyplot as plt"
   ]
  },
  {
   "cell_type": "markdown",
   "metadata": {},
   "source": [
    "## Lectura de archivo"
   ]
  },
  {
   "cell_type": "code",
   "execution_count": null,
   "metadata": {},
   "outputs": [],
   "source": [
    "archivo = \"tubo_seccion_variable.txt\""
   ]
  },
  {
   "cell_type": "markdown",
   "metadata": {},
   "source": [
    "## Cálculos"
   ]
  },
  {
   "cell_type": "code",
   "execution_count": null,
   "metadata": {},
   "outputs": [],
   "source": [
    "# Acá pueden añadir los cálculos"
   ]
  },
  {
   "cell_type": "markdown",
   "metadata": {},
   "source": [
    "## Graficación\n",
    "\n"
   ]
  },
  {
   "cell_type": "code",
   "execution_count": 6,
   "metadata": {},
   "outputs": [],
   "source": [
    "# Graficación"
   ]
  },
  {
   "cell_type": "markdown",
   "metadata": {},
   "source": [
    "## Mini-informe"
   ]
  },
  {
   "cell_type": "markdown",
   "metadata": {},
   "source": [
    "Acá pueden reportar lo que hicieron para resolver la actividad"
   ]
  }
 ],
 "metadata": {
  "kernelspec": {
   "display_name": "Python [conda env:modelacion_computacional]",
   "language": "python",
   "name": "conda-env-modelacion_computacional-py"
  },
  "language_info": {
   "codemirror_mode": {
    "name": "ipython",
    "version": 3
   },
   "file_extension": ".py",
   "mimetype": "text/x-python",
   "name": "python",
   "nbconvert_exporter": "python",
   "pygments_lexer": "ipython3",
   "version": "3.8.1"
  },
  "varInspector": {
   "cols": {
    "lenName": 16,
    "lenType": 16,
    "lenVar": 40
   },
   "kernels_config": {
    "python": {
     "delete_cmd_postfix": "",
     "delete_cmd_prefix": "del ",
     "library": "var_list.py",
     "varRefreshCmd": "print(var_dic_list())"
    },
    "r": {
     "delete_cmd_postfix": ") ",
     "delete_cmd_prefix": "rm(",
     "library": "var_list.r",
     "varRefreshCmd": "cat(var_dic_list()) "
    }
   },
   "types_to_exclude": [
    "module",
    "function",
    "builtin_function_or_method",
    "instance",
    "_Feature"
   ],
   "window_display": false
  }
 },
 "nbformat": 4,
 "nbformat_minor": 2
}
