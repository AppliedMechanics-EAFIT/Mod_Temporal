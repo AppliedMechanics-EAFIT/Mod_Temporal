{
 "cells": [
  {
   "cell_type": "markdown",
   "metadata": {},
   "source": [
    "# Título actividad"
   ]
  },
  {
   "cell_type": "markdown",
   "metadata": {},
   "source": [
    "## Integrantes"
   ]
  },
  {
   "cell_type": "markdown",
   "metadata": {},
   "source": [
    "- Integrante 1, código\n",
    "\n",
    "- Integrante 1, código\n",
    "\n",
    "- Integrante 1, código"
   ]
  },
  {
   "cell_type": "markdown",
   "metadata": {},
   "source": [
    "## Descripción"
   ]
  },
  {
   "cell_type": "markdown",
   "metadata": {},
   "source": [
    "### Objetivo\n",
    "\n",
    "Objetivo de la actividad\n",
    "\n",
    "\n",
    "### Descripción\n",
    "\n",
    "\n",
    "Descripción de la actividad.\n",
    "\n",
    "Se debe:\n",
    "\n",
    "1. Actividad 1.\n",
    "\n",
    "2. Actividad 2.\n",
    "\n",
    "3. Actividad 3.\n",
    "\n",
    "\n",
    "### Formato archivo de entrada\n",
    "\n",
    "\n",
    "Descripción de los archivos de entrada, en caso de haberlos\n"
   ]
  },
  {
   "cell_type": "markdown",
   "metadata": {},
   "source": [
    "## Entregables\n",
    "\n",
    "1. Notebook de Jupyter con el siguiente contenido:\n",
    "    \n",
    "    1. Código que resuelve el problema planteado.\n",
    "    \n",
    "    2. Mini-informe describiento el procedimiento usado y referencias (si se usaron)."
   ]
  },
  {
   "cell_type": "markdown",
   "metadata": {},
   "source": [
    "## Evaluación\n",
    "\n",
    "La evaluación se subdivide en documentación (30%) y el código (70%).\n",
    "\n",
    "Los aspectos a tener en cuenta son:\n",
    "\n",
    "### Documentación\n",
    "\n",
    "1. Contenido (20%): El documento debe describir el procedimiento realizado\n",
    "   y ...\n",
    "\n",
    "2. Presentación (10%): El documento debe estar organizado.\n",
    "\n",
    "### Código\n",
    "\n",
    "1. Organización (20%): El código debe estar organizado y tener comentarios que permitan\n",
    "   su entendimiento.\n",
    "\n",
    "2. Ejecución (20%): El Notebook debe ejecutar sin ninguna clase de error.\n",
    "\n",
    "3. Solución del problema (30%): Los resultados obtenidos para diferentes casos de prueba\n",
    "   son los esperados."
   ]
  },
  {
   "cell_type": "markdown",
   "metadata": {},
   "source": [
    "<div class=\"alert alert-warning\">\n",
    "\n",
    "**Notas**\n",
    "    \n",
    "- La tarea debe realizarla cada grupo.\n",
    "\n",
    "- La tarea deberá ser sustentada cuando se considere necesario, en cuyo caso, la nota\n",
    "de la misma dependerá en su totalidad de dicha sustentación.\n",
    "\n",
    "- Debe anexar un comprimido en formato zip y cuyo nombre del comprimido sea el\n",
    "nombre del equipo asignado.\n",
    "    \n",
    "</div>"
   ]
  },
  {
   "cell_type": "markdown",
   "metadata": {},
   "source": [
    "A continuación se presentan algunas secciones que pueden ayudar\n",
    "a los estudiantes a resolver la actividad."
   ]
  },
  {
   "cell_type": "markdown",
   "metadata": {},
   "source": [
    "## Importación bibliotecas"
   ]
  },
  {
   "cell_type": "code",
   "execution_count": null,
   "metadata": {},
   "outputs": [],
   "source": [
    "import numpy as np\n",
    "import matplotlib.pyplot as plt"
   ]
  },
  {
   "cell_type": "markdown",
   "metadata": {},
   "source": [
    "## Lectura de archivos"
   ]
  },
  {
   "cell_type": "code",
   "execution_count": 1,
   "metadata": {},
   "outputs": [],
   "source": [
    "archivo = \"files/tubo_seccion_variable.txt\""
   ]
  },
  {
   "cell_type": "markdown",
   "metadata": {},
   "source": [
    "## Cálculos"
   ]
  },
  {
   "cell_type": "code",
   "execution_count": 2,
   "metadata": {},
   "outputs": [],
   "source": [
    "# Acá pueden añadir los cálculos"
   ]
  },
  {
   "cell_type": "markdown",
   "metadata": {},
   "source": [
    "## Graficación\n",
    "\n"
   ]
  },
  {
   "cell_type": "code",
   "execution_count": 6,
   "metadata": {},
   "outputs": [],
   "source": [
    "# Graficación"
   ]
  },
  {
   "cell_type": "markdown",
   "metadata": {},
   "source": [
    "## Mini-informe"
   ]
  },
  {
   "cell_type": "markdown",
   "metadata": {},
   "source": [
    "Acá pueden reportar lo que hicieron para resolver la actividad"
   ]
  }
 ],
 "metadata": {
  "kernelspec": {
   "display_name": "Python [conda env:modelacion_computacional]",
   "language": "python",
   "name": "conda-env-modelacion_computacional-py"
  },
  "language_info": {
   "codemirror_mode": {
    "name": "ipython",
    "version": 3
   },
   "file_extension": ".py",
   "mimetype": "text/x-python",
   "name": "python",
   "nbconvert_exporter": "python",
   "pygments_lexer": "ipython3",
   "version": "3.8.1"
  },
  "varInspector": {
   "cols": {
    "lenName": 16,
    "lenType": 16,
    "lenVar": 40
   },
   "kernels_config": {
    "python": {
     "delete_cmd_postfix": "",
     "delete_cmd_prefix": "del ",
     "library": "var_list.py",
     "varRefreshCmd": "print(var_dic_list())"
    },
    "r": {
     "delete_cmd_postfix": ") ",
     "delete_cmd_prefix": "rm(",
     "library": "var_list.r",
     "varRefreshCmd": "cat(var_dic_list()) "
    }
   },
   "types_to_exclude": [
    "module",
    "function",
    "builtin_function_or_method",
    "instance",
    "_Feature"
   ],
   "window_display": false
  }
 },
 "nbformat": 4,
 "nbformat_minor": 2
}
