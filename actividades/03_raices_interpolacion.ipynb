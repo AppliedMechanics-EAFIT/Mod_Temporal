{
 "cells": [
  {
   "cell_type": "markdown",
   "metadata": {},
   "source": [
    "# Actividad de interpolación"
   ]
  },
  {
   "cell_type": "markdown",
   "metadata": {},
   "source": [
    "## Integrantes"
   ]
  },
  {
   "cell_type": "code",
   "execution_count": 1,
   "metadata": {},
   "outputs": [],
   "source": [
    "integrantes = {}"
   ]
  },
  {
   "cell_type": "markdown",
   "metadata": {},
   "source": [
    "## Descripción"
   ]
  },
  {
   "cell_type": "markdown",
   "metadata": {},
   "source": [
    "### Problema\n",
    "\n",
    "La resistencia del concreto en una obra está dada en la siguiente tabla\n",
    "de valores.\n",
    "\n",
    "| Tiempo (días) | Resistencia (GPa) |\n",
    "|:-------------:|:-----------------:|\n",
    "|       0       |         1         |\n",
    "|       2       |         7         |\n",
    "|       8       |         20        |\n",
    "|       10      |         21        |\n",
    "\n",
    "Se desea estimar el tiempo mínimo que se debe esperar antes de cargar la\n",
    "estructura.\n",
    "\n",
    "\n",
    "### Descripción\n",
    "\n",
    "Se debe:\n",
    "\n",
    "\n",
    "1. Crear una variable de tipo diccionario llamada integrantes, cuyas claves de\n",
    "   diccionario son los códigos de estudiante de los integrantes como cadena de\n",
    "   caracteres y los valores asociados son los nombres de los estudiantes\n",
    "   igualmente como cadena de caracteres.\n",
    "\n",
    "2. Crear una función de Python que permita evaluar y graficar la evolución\n",
    "   de la resistencia para una cantidad arbitraria de puntos (n).\n",
    "\n",
    "3. Crear una función de Python que permita encontrar el tiempo para el cual\n",
    "   el concreto ha alcanzado una resistencia dada usando el método de\n",
    "   bisección.\n",
    "\n",
    "4. Responder las preguntas dadas en la sección de [Informe](#Informe).\n",
    "\n",
    "\n",
    "<div class=\"alert alert-warning\">\n",
    "\n",
    "**Recomendaciones**\n",
    "\n",
    "- Consulte la función [`lagrange()`](https://docs.scipy.org/doc/scipy/reference/generated/scipy.interpolate.lagrange.html#scipy.interpolate.lagrange)\n",
    "  de Scipy que permite obtener el polinomio interpolante para una\n",
    "  serie de puntos.\n",
    "    \n",
    "- Consulte la función [`bisect()`](https://docs.scipy.org/doc/scipy/reference/generated/scipy.optimize.bisect.html#scipy.optimize.bisect)\n",
    "  de Scipy que permite obtener la raíz de una función usando\n",
    "  el método de bisección.\n",
    "    \n",
    "</div>"
   ]
  },
  {
   "cell_type": "markdown",
   "metadata": {},
   "source": [
    "## Entregables\n",
    "\n",
    "1. Notebook de Jupyter con el siguiente contenido:\n",
    "    \n",
    "    1. Código que resuelve el problema planteado.\n",
    "    \n",
    "    2. Informe describiento el procedimiento usado y referencias (si se usaron)."
   ]
  },
  {
   "cell_type": "markdown",
   "metadata": {},
   "source": [
    "## Evaluación\n",
    "\n",
    "La evaluación se subdivide en documentación (30%) y el código (70%).\n",
    "\n",
    "Los aspectos a tener en cuenta son:\n",
    "\n",
    "### Documentación\n",
    "\n",
    "1. Contenido (20%): El documento debe describir el procedimiento realizado\n",
    "   y ...\n",
    "\n",
    "2. Presentación (10%): El documento debe estar organizado.\n",
    "\n",
    "### Código\n",
    "\n",
    "1. Organización (20%): El código debe estar organizado y tener comentarios que permitan\n",
    "   su entendimiento.\n",
    "\n",
    "2. Ejecución (20%): El Notebook debe ejecutar sin ninguna clase de error.\n",
    "\n",
    "3. Solución del problema (30%): Los resultados obtenidos para diferentes casos de prueba\n",
    "   son los esperados."
   ]
  },
  {
   "cell_type": "markdown",
   "metadata": {},
   "source": [
    "<div class=\"alert alert-warning\">\n",
    "\n",
    "**Notas**\n",
    "    \n",
    "- La tarea debe realizarla cada grupo.\n",
    "\n",
    "- La tarea deberá ser sustentada cuando se considere necesario, en cuyo caso, la nota\n",
    "de la misma dependerá en su totalidad de dicha sustentación.\n",
    "\n",
    "- Debe anexar un comprimido en formato zip y cuyo nombre del comprimido sea el\n",
    "nombre del equipo asignado.\n",
    "    \n",
    "</div>"
   ]
  },
  {
   "cell_type": "markdown",
   "metadata": {},
   "source": [
    "A continuación se presentan algunas secciones que pueden ayudar\n",
    "a los estudiantes a resolver la actividad."
   ]
  },
  {
   "cell_type": "markdown",
   "metadata": {},
   "source": [
    "## Importación bibliotecas"
   ]
  },
  {
   "cell_type": "code",
   "execution_count": 2,
   "metadata": {},
   "outputs": [],
   "source": [
    "import numpy as np\n",
    "import matplotlib.pyplot as plt"
   ]
  },
  {
   "cell_type": "markdown",
   "metadata": {},
   "source": [
    "## Función de interpolación"
   ]
  },
  {
   "cell_type": "code",
   "execution_count": 3,
   "metadata": {},
   "outputs": [],
   "source": [
    "# Creación de la función de interpolación"
   ]
  },
  {
   "cell_type": "markdown",
   "metadata": {},
   "source": [
    "## Creación de funciones"
   ]
  },
  {
   "cell_type": "code",
   "execution_count": 4,
   "metadata": {},
   "outputs": [],
   "source": [
    "def graficar_resistencia(a, b, n, interp):\n",
    "    \"\"\"\n",
    "    Grafica la función de interpolación (interp)\n",
    "    en el intervalo [a, b] usando n puntos.\n",
    "    \"\"\"\n",
    "    return None"
   ]
  },
  {
   "cell_type": "code",
   "execution_count": 5,
   "metadata": {},
   "outputs": [],
   "source": [
    "def calcular_tiempo(resistencia, interp):\n",
    "    \"\"\"\n",
    "    Calcula el tiempo requerido para que\n",
    "    la resistencia llegue a un valor dado\n",
    "    (resistencia).\n",
    "    \"\"\"\n",
    "    return None"
   ]
  },
  {
   "cell_type": "markdown",
   "metadata": {},
   "source": [
    "## Informe"
   ]
  },
  {
   "cell_type": "markdown",
   "metadata": {},
   "source": [
    "**Preguntas**\n",
    "\n",
    "- Presente el gráfico para n=10.\n",
    "\n",
    "- Presente el gráfico para n=100.\n",
    "\n",
    "- ¿Cuál es el tiempo requerido para que la resistencia llegue 12 GPa?\n",
    "\n",
    "- ¿Cuál es el tiempo requerido para que la resistencia llegue 18 GPa?"
   ]
  },
  {
   "cell_type": "markdown",
   "metadata": {},
   "source": [
    "## Referencias"
   ]
  },
  {
   "cell_type": "markdown",
   "metadata": {},
   "source": [
    "Si consultó alguna referencia añádala en esta sección usando formato\n",
    "APA."
   ]
  }
 ],
 "metadata": {
  "kernelspec": {
   "display_name": "Python [conda env:modelacion_computacional]",
   "language": "python",
   "name": "conda-env-modelacion_computacional-py"
  },
  "language_info": {
   "codemirror_mode": {
    "name": "ipython",
    "version": 3
   },
   "file_extension": ".py",
   "mimetype": "text/x-python",
   "name": "python",
   "nbconvert_exporter": "python",
   "pygments_lexer": "ipython3",
   "version": "3.8.1"
  },
  "varInspector": {
   "cols": {
    "lenName": 16,
    "lenType": 16,
    "lenVar": 40
   },
   "kernels_config": {
    "python": {
     "delete_cmd_postfix": "",
     "delete_cmd_prefix": "del ",
     "library": "var_list.py",
     "varRefreshCmd": "print(var_dic_list())"
    },
    "r": {
     "delete_cmd_postfix": ") ",
     "delete_cmd_prefix": "rm(",
     "library": "var_list.r",
     "varRefreshCmd": "cat(var_dic_list()) "
    }
   },
   "types_to_exclude": [
    "module",
    "function",
    "builtin_function_or_method",
    "instance",
    "_Feature"
   ],
   "window_display": false
  }
 },
 "nbformat": 4,
 "nbformat_minor": 2
}
