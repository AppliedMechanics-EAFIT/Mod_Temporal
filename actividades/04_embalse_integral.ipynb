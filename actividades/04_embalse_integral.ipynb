{
 "cells": [
  {
   "cell_type": "markdown",
   "metadata": {},
   "source": [
    "# Cálculo del volumen de un embalse de sección constante"
   ]
  },
  {
   "cell_type": "markdown",
   "metadata": {},
   "source": [
    "## Integrantes"
   ]
  },
  {
   "cell_type": "markdown",
   "metadata": {},
   "source": [
    "- Integrante 1, código\n",
    "\n",
    "- Integrante 1, código\n",
    "\n",
    "- Integrante 1, código"
   ]
  },
  {
   "cell_type": "markdown",
   "metadata": {},
   "source": [
    "## Descripción"
   ]
  },
  {
   "cell_type": "markdown",
   "metadata": {},
   "source": [
    "### Problema\n",
    "\n",
    "Se desea calcular el volumen de agua que hay en una presa con sección\n",
    "transversal constante en función de la profundidad de agua medida $h$,\n",
    "ver Figura\n",
    "\n",
    "<center>\n",
    "    <img src=\"img/presa.svg\"\n",
    "         alt=\"Esquema de la presa.\"\n",
    "         width=\"400\"/>\n",
    "</center>\n",
    "\n",
    "\n",
    "La sección de la presa está dada por la función\n",
    "$$f(x) = x^3 + 4.800 x^2 - 1.480 x + 0.111\\, ,$$\n",
    "\n",
    "en donde las unidades están medidas en km. La presa tiene una longitud\n",
    "de 10 km en la dirección perpendicular a la sección transversal.\n",
    "\n",
    "### Objetivo\n",
    "\n",
    "Realizar un programa en Python que permita determinar el volumen de agua\n",
    "en la presa para una serie de valores de $h$.\n",
    "\n",
    "\n",
    "\n",
    "### Descripción\n",
    "\n",
    "El código debe:\n",
    "\n",
    "1.  Leer los valores de $h$ desde un archivo con nombre\n",
    "    `profundidad.txt`.\n",
    "\n",
    "2.  Calcular los límites de integración utilizando el método de Newton\n",
    "    con una precisión de $10^{-6}$.\n",
    "\n",
    "3.  Calcular la integral con una precisión de $10^{-6}$.\n",
    "\n",
    "4.  Realizar un gráfico de volumen calculado vs. profundidad medida.\n",
    "\n",
    "5.  Almacenar una tabla de valores de profundidad y volumen calculado en\n",
    "    un archivo de nombre `volumen.txt`\n",
    "\n",
    "\n",
    "### Formato archivo de entrada\n",
    "\n",
    "\n",
    "El archivo de entrada `profundidad.txt` tiene un dato por fila. Para 4\n",
    "valores sería de la siguiente manera\n",
    "\n",
    "    1.011\n",
    "    1.511\n",
    "    2.011\n",
    "    2.511\n",
    "\n",
    "las unidades son km.\n",
    "\n",
    "El archivo de salida, `volumen.txt`, contiene dos columnas: una con los\n",
    "valores de profundidad medidos y otra con los de volumen calculados. El\n",
    "archivo de salida correspondiente al archivo de entrada mostrado\n",
    "anteriormente sería\n",
    "\n",
    "    1.011000 5.932678\n",
    "    1.511000 10.856195\n",
    "    2.011000 16.692758\n",
    "    2.511000 23.324000\n",
    "\n",
    "en donde las unidades son km para la primera columna, y km$^3$ para la\n",
    "segunda columna.\n"
   ]
  },
  {
   "cell_type": "markdown",
   "metadata": {},
   "source": [
    "## Entregables\n",
    "\n",
    "1. Notebook de Jupyter con el siguiente contenido:\n",
    "    \n",
    "    1. Código que resuelve el problema planteado.\n",
    "    \n",
    "    2. Informe describiento el procedimiento usado y referencias (si se usaron)."
   ]
  },
  {
   "cell_type": "markdown",
   "metadata": {},
   "source": [
    "## Evaluación\n",
    "\n",
    "La evaluación se subdivide en documentación (30%) y el código (70%).\n",
    "\n",
    "Los aspectos a tener en cuenta son:\n",
    "\n",
    "### Documentación\n",
    "\n",
    "1.   Contenido (20%). El documento debe describir el procedimiento\n",
    "    realizado y contener la gráfica de volumen vs profundidad para un\n",
    "    caso de prueba.\n",
    "\n",
    "2.   Presentación (10%). El documento debe estar organizado.\n",
    "\n",
    "### Código\n",
    "\n",
    "1. Organización (20%): El código debe estar organizado y tener comentarios que permitan\n",
    "   su entendimiento.\n",
    "\n",
    "2. Ejecución (20%): El Notebook debe ejecutar sin ninguna clase de error.\n",
    "\n",
    "3. Solución del problema (30%): Los resultados obtenidos para diferentes casos de prueba\n",
    "   son los esperados."
   ]
  },
  {
   "cell_type": "markdown",
   "metadata": {},
   "source": [
    "<div class=\"alert alert-warning\">\n",
    "\n",
    "**Notas**\n",
    "    \n",
    "- La tarea debe realizarla cada grupo.\n",
    "\n",
    "- La tarea deberá ser sustentada cuando se considere necesario, en cuyo caso, la nota\n",
    "de la misma dependerá en su totalidad de dicha sustentación.\n",
    "\n",
    "- Debe anexar un comprimido en formato zip y cuyo nombre del comprimido sea el\n",
    "nombre del equipo asignado.\n",
    "    \n",
    "</div>"
   ]
  },
  {
   "cell_type": "markdown",
   "metadata": {},
   "source": [
    "A continuación se presentan algunas secciones que pueden ayudar\n",
    "a los estudiantes a resolver la actividad."
   ]
  },
  {
   "cell_type": "markdown",
   "metadata": {},
   "source": [
    "## Importación bibliotecas"
   ]
  },
  {
   "cell_type": "code",
   "execution_count": null,
   "metadata": {},
   "outputs": [],
   "source": [
    "import numpy as np\n",
    "import matplotlib.pyplot as plt"
   ]
  },
  {
   "cell_type": "markdown",
   "metadata": {},
   "source": [
    "## Lectura de archivos"
   ]
  },
  {
   "cell_type": "code",
   "execution_count": 1,
   "metadata": {},
   "outputs": [],
   "source": [
    "archivo = \"files/archivo.txt\""
   ]
  },
  {
   "cell_type": "markdown",
   "metadata": {},
   "source": [
    "## Cálculos"
   ]
  },
  {
   "cell_type": "code",
   "execution_count": 2,
   "metadata": {},
   "outputs": [],
   "source": [
    "# Acá pueden añadir los cálculosinforme"
   ]
  },
  {
   "cell_type": "markdown",
   "metadata": {},
   "source": [
    "## Graficación\n",
    "\n"
   ]
  },
  {
   "cell_type": "code",
   "execution_count": 6,
   "metadata": {},
   "outputs": [],
   "source": [
    "# Graficación"
   ]
  },
  {
   "cell_type": "markdown",
   "metadata": {},
   "source": [
    "## Informe"
   ]
  },
  {
   "cell_type": "markdown",
   "metadata": {},
   "source": [
    "Acá pueden reportar lo que hicieron para resolver la actividad"
   ]
  },
  {
   "cell_type": "markdown",
   "metadata": {},
   "source": [
    "## Referencias"
   ]
  },
  {
   "cell_type": "markdown",
   "metadata": {},
   "source": [
    "Si consultó alguna referencia añádala en esta sección usando formato\n",
    "APA."
   ]
  }
 ],
 "metadata": {
  "kernelspec": {
   "display_name": "Python [conda env:modelacion_computacional]",
   "language": "python",
   "name": "conda-env-modelacion_computacional-py"
  },
  "language_info": {
   "codemirror_mode": {
    "name": "ipython",
    "version": 3
   },
   "file_extension": ".py",
   "mimetype": "text/x-python",
   "name": "python",
   "nbconvert_exporter": "python",
   "pygments_lexer": "ipython3",
   "version": "3.8.1"
  },
  "varInspector": {
   "cols": {
    "lenName": 16,
    "lenType": 16,
    "lenVar": 40
   },
   "kernels_config": {
    "python": {
     "delete_cmd_postfix": "",
     "delete_cmd_prefix": "del ",
     "library": "var_list.py",
     "varRefreshCmd": "print(var_dic_list())"
    },
    "r": {
     "delete_cmd_postfix": ") ",
     "delete_cmd_prefix": "rm(",
     "library": "var_list.r",
     "varRefreshCmd": "cat(var_dic_list()) "
    }
   },
   "types_to_exclude": [
    "module",
    "function",
    "builtin_function_or_method",
    "instance",
    "_Feature"
   ],
   "window_display": false
  }
 },
 "nbformat": 4,
 "nbformat_minor": 2
}
