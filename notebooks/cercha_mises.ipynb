{
 "cells": [
  {
   "cell_type": "markdown",
   "metadata": {},
   "source": [
    "# Análisis no lineal aproximado"
   ]
  },
  {
   "cell_type": "markdown",
   "metadata": {},
   "source": [
    "## Introducción"
   ]
  },
  {
   "cell_type": "markdown",
   "metadata": {},
   "source": [
    "El modelo de la teoría linealizada de la elasticidad tiene entre sus aproximaciones fundamentales la de asumir que no hay diferencias importantes entre la configuración original y la configuración deformada de una estructura.\n",
    "\n",
    "Notese que si se desprecia esta hipotesis se hace necesario conocer la configuración deformada antes de poder plantear las ecuaciones de equilibrio, pero a la vez para poder conocer la configuración deformada es necesario cargar el sistema y resolver las ecuaciones de equilibrio. En consecuencia el problema es no líneal. Este hecho es evidente si se considera la matriz de rígidez local de un elemento cercha:\n",
    "\n",
    "$$\n",
    "\\begin{Bmatrix}f_1\\\\f_2\\end{Bmatrix} = \\frac{AE}{l}\n",
    "\\begin{bmatrix}\n",
    "1&-1\\\\\n",
    "-1&1\\end{bmatrix}\n",
    "\\begin{Bmatrix}u_1\\\\u_2\\end{Bmatrix}\\, \n",
    "$$\n",
    "\n",
    "de la cual se aprecia que la rigidez depende de la longitud del elemento, la cual depende a la vez de la deformación del mismo.\n",
    "\n",
    "En este notebook utilizaremos la implementación de los elementos tipo cercha (desarrollada en NBs anteriores) para resolver una estructura considerando de manera aproximada la no linealidad.\n",
    "\n",
    "En partícular, abordaremos el problema de una cercha de Von Mises (ver figura), sometida a una carga vertical $F$. "
   ]
  },
  {
   "cell_type": "markdown",
   "metadata": {},
   "source": [
    "<center>\n",
    "    <img src=\"images/cercha_mises.png\"\n",
    "         alt=\"files\"\n",
    "         style=\"width:300px\">\n",
    "</center>"
   ]
  },
  {
   "cell_type": "markdown",
   "metadata": {},
   "source": [
    "Esta cercha tiene la particularidad de que dependiendo del valor de la carga la estructura puede desarrollar un colapso por pandeo subito e invertir su configuración. Para determinar el valor de la carga de colapso es necesario:\n",
    "\n",
    "* (i) Resolver el problema incrementalmente dividiendo la aplicación de la carga en varios pasos o incrementos $\\triangle F$.\n",
    "\n",
    "* (ii) Considerar el efecto de la deformación en la solución del problema de equilibrio."
   ]
  },
  {
   "cell_type": "markdown",
   "metadata": {},
   "source": [
    "## Método de solución\n",
    "\n",
    "Para resolver el problema se asumirá, en cada incremento, que la rígidez de los elementos, y por ende la rígidez de la estructura, corresponde a la configuración original antes de imponer el incremento de carga. Denotemos esta configuración y su rígidez asociada como ${}^0X$ y ${}^0K$ respectivamente y escribamos la ecuación de equlibrio en esta configuración como:\n",
    "\n",
    "$$\n",
    "\\left[{}^0K\\right]\\left\\{\\triangle U\\right\\}=\\left\\{\\triangle F\\right\\}\n",
    "$$\n",
    "\n",
    "donde $\\triangle U$ sería el desplazamiento producido por $\\triangle F$ si es que la rígidez fuera ${}^0K$.\n",
    "\n",
    "<div class=\"alert alert-warning\">\n",
    "    \n",
    "De que depende que las rígideces correspondientes a la configuración original ${}^0K$ y deformada ${}^1K$ sean diferentes?\n",
    "\n",
    "</div>\n",
    "\n",
    "Para verificar que tanto se esta violando la condición de equilibrio actualizemos el sistema a la configuración deformada de acuerdo con:\n",
    "\n",
    "\n",
    "$$\n",
    "X_i \\leftarrow{}^0X+\\triangle U\n",
    "$$\n",
    "\n",
    "y en la cual $X_i$ denota la aproximación $i$ a la configración deformada.\n",
    "\n",
    "Recalculemos ahora la rígidez $K=K(X_i)$ en función de la nueva configuración $X_i$ y determinemos también los residuales o fuerzas sin equilibrar dadas por:\n",
    "\n",
    "$$\n",
    "R = \\triangle F-K(X_i)\\triangle U\n",
    "$$\n",
    "\n",
    "\n",
    "Una configuración de equilibrio se habrá encontrado cuando $R<tol$ o equivalentemente cuando el sistema\n",
    "\n",
    "$$\n",
    "\\left[K\\right]\\left\\{\\triangle U\\right\\}=\\left\\{R\\right\\}\n",
    "$$\n",
    "\n",
    "\n",
    "arroje como resultado un incremento de desplazamiento muy pequeño o tal que $\\triangle U<tol$.\n",
    "\n",
    "gives a null displacement increment such $\\triangle U<tol$.\n",
    "\n",
    "Para verificar esta condición hacemos:\n",
    "\n",
    "$$\n",
    "\\triangle F \\leftarrow R\n",
    "$$\n",
    "\n",
    "y resolvemos\n",
    "\n",
    "$$\n",
    "\\left[K\\right]\\left\\{\\triangle U\\right\\}=\\left\\{\\triangle F\\right\\}\n",
    "$$\n",
    "\n",
    "para determinar el nuevo incremento $\\triangle U$."
   ]
  },
  {
   "cell_type": "markdown",
   "metadata": {},
   "source": [
    "### Algoritmo \n",
    "\n",
    "If $\\triangle U < Tol$ Then (estado de equlibrio encontrado):\n",
    "\n",
    "Almacene la solución:\n",
    "\n",
    "\n",
    "$$\n",
    "{}^1X \\leftarrow X_i\n",
    "$$\n",
    "\n",
    "$$\n",
    "{}^1U \\leftarrow {}^1X - {}^0X\n",
    "$$\n",
    "\n",
    "$$\n",
    "{}^1F \\leftarrow  \\triangle F\n",
    "$$\n",
    "\n",
    "\n",
    "Else\n",
    "\n",
    "Actualice la configuración:\n",
    "\n",
    "$$\n",
    "X_{i+1}\\leftarrow{} X_i+\\triangle U\n",
    "$$\n",
    "\n",
    "\n",
    "$$\n",
    "U \\leftarrow X_{i+1} - {}^0X\n",
    "$$\n",
    "\n",
    "Recalcule $K=K(X_{i+1})$\n",
    "\n",
    "\n",
    "Calcule el residual:\n",
    "\n",
    "$$\n",
    "R = \\triangle F-K(X_{i+1}) U\n",
    "$$\n",
    "\n",
    "\n",
    "y resuelva el sistema:\n",
    "\n",
    "$$\n",
    "\\left[K\\right]\\left\\{\\triangle U\\right\\}=\\left\\{R\\right\\}\n",
    "$$\n",
    "\n",
    "para determinar un nuevo incremento $\\triangle U$ hasta alcanzar convergencia."
   ]
  },
  {
   "cell_type": "markdown",
   "metadata": {},
   "source": [
    "## Solución por elementos finitos\n",
    "\n",
    "### Subrutinas generales"
   ]
  },
  {
   "cell_type": "code",
   "execution_count": 35,
   "metadata": {},
   "outputs": [],
   "source": [
    "import numpy as np"
   ]
  },
  {
   "cell_type": "code",
   "execution_count": 36,
   "metadata": {},
   "outputs": [],
   "source": [
    "def readin():\n",
    "    nodes = np.loadtxt('files/Cnodes.txt', ndmin=2)\n",
    "    mats = np.loadtxt('files/Cmater.txt', ndmin=2)\n",
    "    elements = np.loadtxt('files/Celes.txt', ndmin=2)\n",
    "    loads = np.loadtxt('files/Cloads.txt', ndmin=2)\n",
    "    return nodes, mats, elements, loads"
   ]
  },
  {
   "cell_type": "code",
   "execution_count": 37,
   "metadata": {},
   "outputs": [],
   "source": [
    "def eqcounter(nodes):\n",
    "    nnodes = nodes.shape[0]\n",
    "    IBC = np.zeros((nnodes, 2), dtype=np.integer)\n",
    "    for node in range(nnodes):\n",
    "        for dof in range(2):\n",
    "            IBC[node, dof] = int(nodes[node, dof + 3])\n",
    "    neq = 0\n",
    "    for node in range(nnodes):\n",
    "        for dof in range(2):\n",
    "            if IBC[node, dof] == 0:\n",
    "                IBC[node, dof] = neq\n",
    "                neq = neq + 1\n",
    "    return neq, IBC"
   ]
  },
  {
   "cell_type": "code",
   "execution_count": 38,
   "metadata": {},
   "outputs": [],
   "source": [
    "def assembly(elements, mats, nodes, neq, DME):\n",
    "    IELCON = np.zeros((2), dtype=np.integer)\n",
    "    KG = np.zeros((neq, neq))\n",
    "    nels = elements.shape[0]\n",
    "    nnodes = 2\n",
    "    ndof = 4\n",
    "    for el in range(nels):\n",
    "        elcoor = np.zeros((nnodes, 2))\n",
    "        im = np.int(elements[el , 2])\n",
    "        par0 = mats[im, 0]\n",
    "        par1 = mats[im, 1]\n",
    "        for j in range(nnodes):\n",
    "            IELCON[j] = elements[el , j+3]\n",
    "            elcoor[j , 0] = nodes[IELCON[j], 1]\n",
    "            elcoor[j , 1] = nodes[IELCON[j], 2]\n",
    "        kloc = ueltruss2D(elcoor, par0, par1)\n",
    "        dme = DME[el, :ndof]\n",
    "        for row in range(ndof):\n",
    "            glob_row = dme[row]\n",
    "            if glob_row != -1:\n",
    "                for col in range(ndof):\n",
    "                    glob_col = dme[col]\n",
    "                    if glob_col != -1:\n",
    "                        KG[glob_row, glob_col] = KG[glob_row, glob_col] +\\\n",
    "                                                 kloc[row, col]\n",
    "    return KG"
   ]
  },
  {
   "cell_type": "code",
   "execution_count": 39,
   "metadata": {},
   "outputs": [],
   "source": [
    "def ueltruss2D(coord, A, Emod):\n",
    "    vec = coord[1, :] - coord[0, :]\n",
    "    length = np.linalg.norm(vec)\n",
    "    nx = vec[0]/length\n",
    "    ny = vec[1]/length\n",
    "    Q = np.array([\n",
    "        [nx, ny , 0 , 0],\n",
    "        [0,  0, nx , ny]])\n",
    "    kl = (A*Emod/length) * np.array([\n",
    "        [1, -1],\n",
    "        [-1, 1]])\n",
    "    kG = Q.T @ kl @ Q\n",
    "    return kG"
   ]
  },
  {
   "cell_type": "code",
   "execution_count": 40,
   "metadata": {},
   "outputs": [],
   "source": [
    "def loadasem(loads, IBC, neq, nl):\n",
    "    RHSG = np.zeros([neq])\n",
    "    for cont in range(nl):\n",
    "        il = int(loads[cont, 0])\n",
    "        ilx = IBC[il , 0]\n",
    "        ily = IBC[il , 1]\n",
    "        if ilx != -1:\n",
    "            RHSG[ilx] = loads[cont, 1]\n",
    "        if ily != -1:\n",
    "            RHSG[ily] = loads[cont, 2]\n",
    "    return RHSG"
   ]
  },
  {
   "cell_type": "code",
   "execution_count": 41,
   "metadata": {},
   "outputs": [],
   "source": [
    "def DME(nodes, elements):\n",
    "    nels = elements.shape[0]\n",
    "    IELCON = np.zeros((nels, 2), dtype=np.integer)\n",
    "    DME = np.zeros((nels, 4), dtype=np.integer)\n",
    "    neq, IBC = eqcounter(nodes)\n",
    "    ndof = 4\n",
    "    nnodes = 2\n",
    "    for ele in range(nels):\n",
    "        for node in range(nnodes):\n",
    "            IELCON[ele, node] = elements[ele, node + 3]\n",
    "            glob_num = IELCON[ele, node]\n",
    "            for loc_num in range(2):\n",
    "                DME[ele, 2*node + loc_num] = IBC[glob_num, loc_num]\n",
    "    return DME, IBC, neq"
   ]
  },
  {
   "cell_type": "markdown",
   "metadata": {},
   "source": [
    "Calcule el operador ensamblador y dejelo listo para iterar"
   ]
  },
  {
   "cell_type": "code",
   "execution_count": 8,
   "metadata": {},
   "outputs": [],
   "source": [
    "ndof = 4\n",
    "nnodes = 2\n",
    "nels = 2\n",
    "nodes, mats, elements, loads = readin()\n",
    "neq, IBC = eqcounter(nodes)\n",
    "R = np.zeros((neq))\n",
    "F = np.zeros((neq))\n",
    "UG = np.zeros((neq))\n",
    "DME, IBC, neq = DME(nodes, elements)"
   ]
  },
  {
   "cell_type": "markdown",
   "metadata": {},
   "source": [
    "## Iteraciones\n",
    "A conitnuación se describen de manera completa algunas iteraciones. Para el primer incremento se explica cada paso de la iteración.\n",
    "\n",
    "### Incremento 1"
   ]
  },
  {
   "cell_type": "markdown",
   "metadata": {},
   "source": [
    "Asuma estado de equilibrio conocido y dado por: ${}^0X$ , ${}^0F$ and ${}^0U$ .\n",
    "\n",
    "Calcule $K=K({}^0X)$ para la configuración conicida ${}^0X$, aplique el incremento $\\triangle F$ y resuelva:\n",
    "\n",
    "$$\n",
    "\\left[K({}^0X)\\right]\\left\\{\\triangle U\\right\\}=\\left\\{\\triangle F\\right\\}\n",
    "$$\n",
    "\n",
    "para determinar el incremento $\\triangle U$."
   ]
  },
  {
   "cell_type": "code",
   "execution_count": 25,
   "metadata": {},
   "outputs": [
    {
     "name": "stdout",
     "output_type": "stream",
     "text": [
      "[ 0.         -0.00120508]\n"
     ]
    }
   ],
   "source": [
    "ini_x = nodes[2 , 2 ]\n",
    "KG    = assembly(elements, mats, nodes, neq, DME)\n",
    "RHSG  = loadasem(loads, IBC, neq, 1)\n",
    "delu  = np.linalg.solve(KG, RHSG)\n",
    "print(delu)"
   ]
  },
  {
   "cell_type": "markdown",
   "metadata": {},
   "source": [
    "Actualice:\n",
    "\n",
    "$$\n",
    "X_i \\leftarrow{}^0X+\\triangle U\n",
    "$$\n",
    "\n",
    "Recalcule $K=K(X_i)$\n",
    "\n",
    "y calcue el residual:\n",
    "\n",
    "$$\n",
    "R = \\triangle F-K(X_i)\\triangle U\n",
    "$$"
   ]
  },
  {
   "cell_type": "code",
   "execution_count": 26,
   "metadata": {},
   "outputs": [
    {
     "name": "stdout",
     "output_type": "stream",
     "text": [
      "[ 0.00000000e+00 -5.61374779e-05]\n"
     ]
    }
   ],
   "source": [
    "nodes[2 , 2 ]  = ini_x + delu[1]\n",
    "UG[1] = nodes[2 , 2 ] - ini_x\n",
    "KG = assembly(elements, mats, nodes, neq, DME)\n",
    "R = RHSG-KG.dot(UG)\n",
    "print(R)"
   ]
  },
  {
   "cell_type": "markdown",
   "metadata": {},
   "source": [
    "Haga:\n",
    "\n",
    "$$\n",
    "\\triangle F \\leftarrow R\n",
    "$$\n",
    "\n",
    "y resuelva:\n",
    "\n",
    "$$\n",
    "\\left[K\\right]\\left\\{\\triangle U\\right\\}=\\left\\{\\triangle F\\right\\}\n",
    "$$\n",
    "\n",
    "para el nuevo incremento $\\triangle U$."
   ]
  },
  {
   "cell_type": "code",
   "execution_count": 27,
   "metadata": {},
   "outputs": [
    {
     "name": "stdout",
     "output_type": "stream",
     "text": [
      "[ 0.00000000e+00 -1.73771202e-06]\n"
     ]
    }
   ],
   "source": [
    "loads[0 , 2] = R[1]\n",
    "RHSG = loadasem(loads, IBC, neq, 1)\n",
    "delu = np.linalg.solve(KG , RHSG)\n",
    "print(delu)"
   ]
  },
  {
   "cell_type": "markdown",
   "metadata": {},
   "source": [
    "If $\\triangle U < Tol$ Then (equilibrio):\n",
    "\n",
    "Alamacene la solución:\n",
    "\n",
    "\n",
    "$$\n",
    "{}^1X \\leftarrow X_i\n",
    "$$\n",
    "\n",
    "$$\n",
    "{}^1U \\leftarrow {}^1X - {}^0X\n",
    "$$\n",
    "\n",
    "$$\n",
    "{}^1F \\leftarrow  \\triangle F\n",
    "$$\n",
    "\n",
    "\n",
    "Else\n",
    "\n",
    "Actualice:\n",
    "\n",
    "$$\n",
    "X_{i+1}\\leftarrow{} X_i+\\triangle U\n",
    "$$\n",
    "\n",
    "\n",
    "$$\n",
    "U \\leftarrow X_{i+1} - {}^0X\n",
    "$$\n",
    "\n",
    "Recalcule $K=K(X_{i+1})$\n",
    "\n",
    "\n",
    "Calcule residual:\n",
    "\n",
    "$$\n",
    "R = \\triangle F-K(X_{i+1}) U\n",
    "$$\n",
    "\n",
    "\n",
    "y resuelva:\n",
    "\n",
    "$$\n",
    "\\left[K\\right]\\left\\{\\triangle U\\right\\}=\\left\\{R\\right\\}\n",
    "$$\n",
    "\n",
    "para determinar un nuevo incremento $\\triangle U$ hasta alcanzar convergencia."
   ]
  },
  {
   "cell_type": "code",
   "execution_count": 28,
   "metadata": {},
   "outputs": [
    {
     "name": "stdout",
     "output_type": "stream",
     "text": [
      "0.9514968869399463\n",
      "[ 0.00000000e+00 -1.16797104e-10]\n",
      "[ 0.00000000e+00 -3.61541276e-12]\n"
     ]
    }
   ],
   "source": [
    "nodes[2 , 2 ]  = nodes[2 , 2 ] + delu[1]\n",
    "print(nodes[2 , 2 ])\n",
    "UG[1] = nodes[2 , 2 ] - ini_x\n",
    "KG = assembly(elements, mats, nodes, neq, DME)\n",
    "R = RHSG-KG.dot(delu)\n",
    "print(R)\n",
    "#\n",
    "loads[0 , 2] = R[1]\n",
    "RHSG = loadasem(loads, IBC, neq, 1)\n",
    "delu = np.linalg.solve(KG , RHSG)\n",
    "print(delu)"
   ]
  },
  {
   "cell_type": "code",
   "execution_count": 29,
   "metadata": {},
   "outputs": [
    {
     "name": "stdout",
     "output_type": "stream",
     "text": [
      "[ 0.         -0.00120682]\n",
      "0.9514968869399463\n"
     ]
    }
   ],
   "source": [
    "nodes[2 , 2 ]  = nodes[2 , 2 ]\n",
    "UG[1] = nodes[2 , 2 ] - ini_x\n",
    "print(UG)\n",
    "print(nodes[2 , 2 ])"
   ]
  },
  {
   "cell_type": "markdown",
   "metadata": {},
   "source": [
    "### Incremento 2"
   ]
  },
  {
   "cell_type": "code",
   "execution_count": 30,
   "metadata": {},
   "outputs": [
    {
     "name": "stdout",
     "output_type": "stream",
     "text": [
      "[ 0.         -0.21915888]\n"
     ]
    }
   ],
   "source": [
    "ini_x = nodes[2 , 2 ]\n",
    "KG    = assembly(elements, mats, nodes, neq, DME)\n",
    "loads = np.loadtxt('files/Cloads.txt', ndmin=2)\n",
    "RHSG  = loadasem(loads, IBC, neq, 1)\n",
    "delu  = np.linalg.solve(KG, RHSG)\n",
    "print(delu)"
   ]
  },
  {
   "cell_type": "code",
   "execution_count": 15,
   "metadata": {},
   "outputs": [
    {
     "name": "stdout",
     "output_type": "stream",
     "text": [
      "[ 0.         -0.65474157]\n"
     ]
    }
   ],
   "source": [
    "nodes[2 , 2 ]  = ini_x + delu[1]\n",
    "UG[1] = nodes[2 , 2 ] - ini_x\n",
    "KG = assembly(elements, mats, nodes, neq, DME)\n",
    "R = RHSG-KG.dot(UG)\n",
    "print(R)"
   ]
  },
  {
   "cell_type": "code",
   "execution_count": 16,
   "metadata": {},
   "outputs": [
    {
     "name": "stdout",
     "output_type": "stream",
     "text": [
      "[ 0.         -0.01634449]\n"
     ]
    }
   ],
   "source": [
    "loads[0 , 2] = R[1]\n",
    "RHSG = loadasem(loads, IBC, neq, 1)\n",
    "delu = np.linalg.solve(KG , RHSG)\n",
    "print(delu)"
   ]
  },
  {
   "cell_type": "code",
   "execution_count": 17,
   "metadata": {},
   "outputs": [
    {
     "name": "stdout",
     "output_type": "stream",
     "text": [
      "1.1636105543819666\n",
      "[ 0.        -0.0078351]\n",
      "[ 0.         -0.00019796]\n"
     ]
    }
   ],
   "source": [
    "nodes[2 , 2 ]  = nodes[2 , 2 ] + delu[1]\n",
    "print(nodes[2 , 2 ])\n",
    "UG[1] = nodes[2 , 2 ] - ini_x\n",
    "KG = assembly(elements, mats, nodes, neq, DME)\n",
    "R = RHSG-KG.dot(delu)\n",
    "print(R)\n",
    "#\n",
    "loads[0 , 2] = R[1]\n",
    "RHSG = loadasem(loads, IBC, neq, 1)\n",
    "delu = np.linalg.solve(KG , RHSG)\n",
    "print(delu)"
   ]
  },
  {
   "cell_type": "code",
   "execution_count": 18,
   "metadata": {},
   "outputs": [
    {
     "name": "stdout",
     "output_type": "stream",
     "text": [
      "[ 0.         -0.17673999]\n",
      "1.1636105543819666\n"
     ]
    }
   ],
   "source": [
    "nodes[2 , 2 ]  = nodes[2 , 2 ]\n",
    "UG[1] = nodes[2 , 2 ] - ini_x\n",
    "print(UG)\n",
    "print(nodes[2 , 2 ])"
   ]
  },
  {
   "cell_type": "markdown",
   "metadata": {},
   "source": [
    "### Incremento 3"
   ]
  },
  {
   "cell_type": "code",
   "execution_count": 31,
   "metadata": {},
   "outputs": [
    {
     "name": "stdout",
     "output_type": "stream",
     "text": [
      "[ 0.         -0.21915888]\n"
     ]
    }
   ],
   "source": [
    "ini_x = nodes[2 , 2 ]\n",
    "KG    = assembly(elements, mats, nodes, neq, DME)\n",
    "loads = np.loadtxt('files/Cloads.txt', ndmin=2)\n",
    "RHSG  = loadasem(loads, IBC, neq, 1)\n",
    "delu  = np.linalg.solve(KG, RHSG)\n",
    "print(delu)"
   ]
  },
  {
   "cell_type": "code",
   "execution_count": 32,
   "metadata": {},
   "outputs": [
    {
     "name": "stdout",
     "output_type": "stream",
     "text": [
      "[ 0.         -2.02564235]\n"
     ]
    }
   ],
   "source": [
    "nodes[2 , 2 ]  = ini_x + delu[1]\n",
    "UG[1] = nodes[2 , 2 ] - ini_x\n",
    "KG = assembly(elements, mats, nodes, neq, DME)\n",
    "R = RHSG-KG.dot(UG)\n",
    "print(R)"
   ]
  },
  {
   "cell_type": "code",
   "execution_count": 33,
   "metadata": {},
   "outputs": [
    {
     "name": "stdout",
     "output_type": "stream",
     "text": [
      "[ 0.         -0.08783263]\n"
     ]
    }
   ],
   "source": [
    "loads[0 , 2] = R[1]\n",
    "RHSG = loadasem(loads, IBC, neq, 1)\n",
    "delu = np.linalg.solve(KG , RHSG)\n",
    "print(delu)"
   ]
  },
  {
   "cell_type": "code",
   "execution_count": 34,
   "metadata": {},
   "outputs": [
    {
     "name": "stdout",
     "output_type": "stream",
     "text": [
      "0.6445053822176532\n",
      "[ 0.        -0.3487758]\n",
      "[ 0.         -0.01826853]\n"
     ]
    }
   ],
   "source": [
    "nodes[2 , 2 ]  = nodes[2 , 2 ] + delu[1]\n",
    "print(nodes[2 , 2 ])\n",
    "UG[1] = nodes[2 , 2 ] - ini_x\n",
    "KG = assembly(elements, mats, nodes, neq, DME)\n",
    "R = RHSG-KG.dot(delu)\n",
    "print(R)\n",
    "#\n",
    "loads[0 , 2] = R[1]\n",
    "RHSG = loadasem(loads, IBC, neq, 1)\n",
    "delu = np.linalg.solve(KG , RHSG)\n",
    "print(delu)"
   ]
  },
  {
   "cell_type": "code",
   "execution_count": 23,
   "metadata": {},
   "outputs": [
    {
     "name": "stdout",
     "output_type": "stream",
     "text": [
      "[ 0.         -0.21090685]\n",
      "0.9527037093117487\n"
     ]
    }
   ],
   "source": [
    "nodes[2 , 2 ]  = nodes[2 , 2 ]\n",
    "UG[1] = nodes[2 , 2 ] - ini_x\n",
    "print(UG)\n",
    "print(nodes[2 , 2 ])"
   ]
  },
  {
   "cell_type": "markdown",
   "metadata": {},
   "source": [
    "## Problema\n",
    "\n",
    "<div class=\"alert alert-warning\">\n",
    "    \n",
    " Implemente un algoritmo que realice de manera automatica los pasos de cada incremento y aplique el mismo para determinar al menos 5 configuraciones equilibradas.\n",
    "</div>\n"
   ]
  },
  {
   "cell_type": "markdown",
   "metadata": {},
   "source": [
    "## Formato del notebook"
   ]
  },
  {
   "cell_type": "markdown",
   "metadata": {},
   "source": [
    "La siguiente celda cambia el formato del Notebook."
   ]
  },
  {
   "cell_type": "code",
   "execution_count": 24,
   "metadata": {},
   "outputs": [
    {
     "data": {
      "text/html": [
       "\n",
       "<link href='http://fonts.googleapis.com/css?family=Fenix' rel='stylesheet' type='text/css'>\n",
       "<link href='http://fonts.googleapis.com/css?family=Alegreya+Sans:100,300,400,500,700,800,900,100italic,300italic,400italic,500italic,700italic,800italic,900italic' rel='stylesheet' type='text/css'>\n",
       "<link href='http://fonts.googleapis.com/css?family=Source+Code+Pro:300,400' rel='stylesheet' type='text/css'>\n",
       "\n",
       "<style>\n",
       "\n",
       "/*\n",
       "Template for Notebooks for ModelaciÃ³n computacional.\n",
       "\n",
       "Based on Lorena Barba template available at:\n",
       "\n",
       "    https://github.com/barbagroup/AeroPython/blob/master/styles/custom.css\n",
       "*/\n",
       "\n",
       "/* Fonts */\n",
       "@font-face {\n",
       "font-family: \"Computer Modern\";\n",
       "src: url('http://mirrors.ctan.org/fonts/cm-unicode/fonts/otf/cmunss.otf');\n",
       "}\n",
       "\n",
       "/* Text */\n",
       "div.cell{\n",
       "width:800px;\n",
       "margin-left:16% !important;\n",
       "margin-right:auto;\n",
       "}\n",
       "h1 {\n",
       "font-family: 'Alegreya Sans', sans-serif;\n",
       "}\n",
       "h2 {\n",
       "font-family: 'Fenix', serif;\n",
       "}\n",
       "h3{\n",
       "font-family: 'Fenix', serif;\n",
       "margin-top:12px;\n",
       "margin-bottom: 3px;\n",
       "}\n",
       "h4{\n",
       "font-family: 'Fenix', serif;\n",
       "}\n",
       "h5 {\n",
       "font-family: 'Alegreya Sans', sans-serif;\n",
       "}\t\n",
       "div.text_cell_render{\n",
       "font-family: 'Alegreya Sans',Computer Modern, \"Helvetica Neue\", Arial, Helvetica, Geneva, sans-serif;\n",
       "line-height: 135%;\n",
       "font-size: 120%;\n",
       "width:600px;\n",
       "margin-left:auto;\n",
       "margin-right:auto;\n",
       "}\n",
       ".CodeMirror{\n",
       "font-family: \"Source Code Pro\";\n",
       "font-size: 90%;\n",
       "}\n",
       "/* .prompt{\n",
       "display: None;\n",
       "}*/\n",
       ".text_cell_render h1 {\n",
       "font-weight: 200;\n",
       "font-size: 50pt;\n",
       "line-height: 100%;\n",
       "color:#CD2305;\n",
       "margin-bottom: 0.5em;\n",
       "margin-top: 0.5em;\n",
       "display: block;\n",
       "}\t\n",
       ".text_cell_render h5 {\n",
       "font-weight: 300;\n",
       "font-size: 16pt;\n",
       "color: #CD2305;\n",
       "font-style: italic;\n",
       "margin-bottom: .5em;\n",
       "margin-top: 0.5em;\n",
       "display: block;\n",
       "}\n",
       ".warning{\n",
       "color: rgb( 240, 20, 20 )\n",
       "}\n",
       "</style>\n",
       "\n",
       "<script>\n",
       "/* Equations */\n",
       "\n",
       "MathJax.Hub.Config({\n",
       "TeX: {\n",
       "extensions: [\"AMSmath.js\"]\n",
       "},\n",
       "tex2jax: {\n",
       "inlineMath: [ ['$','$'], [\"\\\\(\",\"\\\\)\"] ],\n",
       "displayMath: [ ['$$','$$'], [\"\\\\[\",\"\\\\]\"] ]\n",
       "},\n",
       "displayAlign: 'center', // Change this to 'center' to center equations.\n",
       "\"HTML-CSS\": {\n",
       "styles: {'.MathJax_Display': {\"margin\": 4}}\n",
       "}\n",
       "});\n",
       "</script>\n",
       "\n",
       "\n"
      ],
      "text/plain": [
       "<IPython.core.display.HTML object>"
      ]
     },
     "execution_count": 24,
     "metadata": {},
     "output_type": "execute_result"
    }
   ],
   "source": [
    "from IPython.core.display import HTML\n",
    "def css_styling():\n",
    "    styles = open('./nb_style.css', 'r').read()\n",
    "    return HTML(styles)\n",
    "css_styling()"
   ]
  },
  {
   "cell_type": "code",
   "execution_count": null,
   "metadata": {},
   "outputs": [],
   "source": []
  }
 ],
 "metadata": {
  "celltoolbar": "Raw Cell Format",
  "kernelspec": {
   "display_name": "Python 3",
   "language": "python",
   "name": "python3"
  },
  "language_info": {
   "codemirror_mode": {
    "name": "ipython",
    "version": 3
   },
   "file_extension": ".py",
   "mimetype": "text/x-python",
   "name": "python",
   "nbconvert_exporter": "python",
   "pygments_lexer": "ipython3",
   "version": "3.7.3"
  },
  "varInspector": {
   "cols": {
    "lenName": 16,
    "lenType": 16,
    "lenVar": 40
   },
   "kernels_config": {
    "python": {
     "delete_cmd_postfix": "",
     "delete_cmd_prefix": "del ",
     "library": "var_list.py",
     "varRefreshCmd": "print(var_dic_list())"
    },
    "r": {
     "delete_cmd_postfix": ") ",
     "delete_cmd_prefix": "rm(",
     "library": "var_list.r",
     "varRefreshCmd": "cat(var_dic_list()) "
    }
   },
   "types_to_exclude": [
    "module",
    "function",
    "builtin_function_or_method",
    "instance",
    "_Feature"
   ],
   "window_display": false
  }
 },
 "nbformat": 4,
 "nbformat_minor": 1
}
