{
 "cells": [
  {
   "cell_type": "markdown",
   "metadata": {},
   "source": [
    "Contenido bajo licencia Creative Commons BY 4.0 y código bajo licencia MIT. © Juan Gómez y Nicolás Guarín-Zapata 2020. Este material es parte del curso Modelación Computacional en el programa de Ingeniería Civil de la Universidad EAFIT."
   ]
  },
  {
   "cell_type": "markdown",
   "metadata": {},
   "source": [
    "# Transformación de coordenadas en cerchas"
   ]
  },
  {
   "cell_type": "code",
   "execution_count": 1,
   "metadata": {},
   "outputs": [],
   "source": [
    "from sympy import *"
   ]
  },
  {
   "cell_type": "code",
   "execution_count": 2,
   "metadata": {},
   "outputs": [
    {
     "name": "stdout",
     "output_type": "stream",
     "text": [
      "IPython console for SymPy 1.4 (Python 3.7.3-64-bit) (ground types: python)\n",
      "\n",
      "These commands were executed:\n",
      ">>> from __future__ import division\n",
      ">>> from sympy import *\n",
      ">>> x, y, z, t = symbols('x y z t')\n",
      ">>> k, m, n = symbols('k m n', integer=True)\n",
      ">>> f, g, h = symbols('f g h', cls=Function)\n",
      ">>> init_printing()\n",
      "\n",
      "Documentation can be found at https://docs.sympy.org/1.4/\n",
      "\n"
     ]
    }
   ],
   "source": [
    "init_session()"
   ]
  },
  {
   "cell_type": "markdown",
   "metadata": {},
   "source": [
    "## Transformación de coordenadas de vectores"
   ]
  },
  {
   "cell_type": "markdown",
   "metadata": {},
   "source": []
  },
  {
   "cell_type": "code",
   "execution_count": null,
   "metadata": {},
   "outputs": [],
   "source": []
  },
  {
   "cell_type": "markdown",
   "metadata": {},
   "source": [
    "## Transformación de las ecuaciones de un elemento cercha"
   ]
  },
  {
   "cell_type": "markdown",
   "metadata": {},
   "source": [
    "Tomemos un elemento tipo cercha que se encuentra horizontal.\n",
    "\n",
    "<center>\n",
    "    <img src=\"img/cercha_local_horizontal.svg\"\n",
    "         alt=\"Cercha en el sistema de referencia global.\"\n",
    "         style=\"width:450px\">\n",
    "</center>\n",
    "\n",
    "\n",
    "Para este, podemos escribir\n",
    "el balance de fuerzas en componentes como\n",
    "\n",
    "\\begin{align}\n",
    "\\sum F_x = 0\\, ,\\\\\n",
    "\\sum F_y = 0\\, .\n",
    "\\end{align}\n",
    "\n",
    "Y esto podemos escribirlo de forma matricial de la siguiente manera\n",
    "\n",
    "$$\\begin{bmatrix}\n",
    "+k &0 &-k &0\\\\\n",
    " 0 &0 &0  &0\\\\\n",
    "-k &0 &+k &0\\\\\n",
    " 0 &0 &0  &0\\end{bmatrix}\n",
    "\\begin{Bmatrix} u_1\\\\ v_1\\\\ u_2\\\\ v_2\\end{Bmatrix} =\n",
    "\\begin{Bmatrix} -f_1\\\\ 0\\\\ -f_2\\\\ 0\\end{Bmatrix}\\, .$$\n",
    "\n",
    "Ahora, queremos expresar nuestro sistema de ecuaciones en un sistema rotado\n",
    "un ángulo $\\theta$.\n",
    "\n",
    "<center>\n",
    "    <img src=\"img/cercha_global.svg\"\n",
    "         alt=\"Cercha en el sistema de referencia global.\"\n",
    "         style=\"width:400px\">\n",
    "</center>\n",
    "\n",
    "Las componentes estarían dadas por\n",
    "\n",
    "\\begin{align}\n",
    "u_1' = u_1 \\cos\\theta + v_1 \\sin\\theta\\, ,\\\\\n",
    "v_1' = -u_1 \\sin\\theta + v_1 \\cos\\theta\\, ,\\\\\n",
    "u_2' = u_2 \\cos\\theta + v_2 \\sin\\theta\\, ,\\\\\n",
    "v_2' = -u_2 \\sin\\theta + v_2 \\cos\\theta\\, ,\\\\\n",
    "\\end{align}\n",
    "\n",
    "o, matricialmente,\n",
    "\n",
    "$$\\begin{Bmatrix}u_1'\\\\ v_1'\\\\ u_2'\\\\ v_2'\\end{Bmatrix} =\n",
    "\\underbrace{\n",
    "\\begin{bmatrix}\n",
    "\\cos\\theta &\\sin\\theta &0 &0\\\\\n",
    "-\\sin\\theta &\\cos\\theta &0 &0\\\\\n",
    "0 &0 &\\cos\\theta &\\sin\\theta\\\\\n",
    "0 &0 &-\\sin\\theta &\\cos\\theta\n",
    "\\end{bmatrix}}_{T}\n",
    "\\begin{Bmatrix}u_1\\\\ v_1\\\\ u_2\\\\ v_2\\end{Bmatrix}\\, .$$\n",
    "\n",
    "Que podemos escribir de manera abreviada como\n",
    "\n",
    "$$\\{U'\\} = [T]\\{U\\}\\, .$$\n",
    "\n",
    "Tenemos que\n",
    "\n",
    "\\begin{align}\n",
    "&[K] \\{U'\\} = \\{F\\}\\, ,\\\\\n",
    "&[K] [T] \\{U\\} = [T] \\{F\\}\\, .\n",
    "\\end{align}\n",
    "\n",
    "Y, multiplicando ambos lados por $[T]^T$, obtenemos\n",
    "\\begin{align}\n",
    "&[T]^T [K] [T] \\{U\\} = \\underbrace{[T]^T [T]}_{[I]} \\{F\\}\\, ,\\\\\n",
    "&[T]^T [K] [T] \\{U\\} = \\{F\\}\\, .\n",
    "\\end{align}"
   ]
  },
  {
   "cell_type": "markdown",
   "metadata": {},
   "source": [
    "## Ejemplo"
   ]
  },
  {
   "cell_type": "markdown",
   "metadata": {},
   "source": [
    "Calculemos las matrices de rigidez para los elementos de la siguiente\n",
    "cercha.\n",
    "\n",
    "<center>\n",
    "    <img src=\"img/cercha_transformacion.svg\"\n",
    "         alt=\"Cercha ejemplo.\"\n",
    "         style=\"width:400px\">\n",
    "</center>\n",
    "\n",
    "En donde la sección transversal ($A$) y módulo de Young ($E$) son los\n",
    "mismos para todas las barras.\n",
    "\n",
    "Para facilitar los cálculos, haremos uso de SymPy."
   ]
  },
  {
   "cell_type": "code",
   "execution_count": 3,
   "metadata": {},
   "outputs": [],
   "source": [
    "A, E, L, theta = symbols(\"A E L theta\")\n",
    "L0, L1, L2 = symbols(\"L0 L1 L2\")\n",
    "T = Matrix([\n",
    "    [cos(theta), -sin(theta), 0 ,0],\n",
    "    [sin(theta), cos(theta), 0 ,0],\n",
    "    [0, 0, cos(theta), -sin(theta)],\n",
    "    [0, 0, sin(theta), cos(theta)]])\n",
    "rigidez_local = A*E/L * Matrix([\n",
    "    [1, 0, -1, 0],\n",
    "    [0, 0,  0, 0],\n",
    "    [-1, 0, 1, 0],\n",
    "    [0, 0, 0, 0]])"
   ]
  },
  {
   "cell_type": "markdown",
   "metadata": {},
   "source": [
    "Veamos las matrices que definimos."
   ]
  },
  {
   "cell_type": "code",
   "execution_count": 4,
   "metadata": {},
   "outputs": [
    {
     "data": {
      "image/png": "[encoded data removed]",
      "text/latex": [
       "$\\displaystyle \\left[\\begin{matrix}\\cos{\\left(\\theta \\right)} & - \\sin{\\left(\\theta \\right)} & 0 & 0\\\\\\sin{\\left(\\theta \\right)} & \\cos{\\left(\\theta \\right)} & 0 & 0\\\\0 & 0 & \\cos{\\left(\\theta \\right)} & - \\sin{\\left(\\theta \\right)}\\\\0 & 0 & \\sin{\\left(\\theta \\right)} & \\cos{\\left(\\theta \\right)}\\end{matrix}\\right]$"
      ],
      "text/plain": [
       "⎡cos(θ)  -sin(θ)    0        0   ⎤\n",
       "⎢                                ⎥\n",
       "⎢sin(θ)  cos(θ)     0        0   ⎥\n",
       "⎢                                ⎥\n",
       "⎢  0        0     cos(θ)  -sin(θ)⎥\n",
       "⎢                                ⎥\n",
       "⎣  0        0     sin(θ)  cos(θ) ⎦"
      ]
     },
     "execution_count": 4,
     "metadata": {},
     "output_type": "execute_result"
    }
   ],
   "source": [
    "T"
   ]
  },
  {
   "cell_type": "code",
   "execution_count": 5,
   "metadata": {},
   "outputs": [
    {
     "data": {
      "image/png": "[encoded data removed]",
      "text/latex": [
       "$\\displaystyle \\left[\\begin{matrix}\\frac{A E}{L} & 0 & - \\frac{A E}{L} & 0\\\\0 & 0 & 0 & 0\\\\- \\frac{A E}{L} & 0 & \\frac{A E}{L} & 0\\\\0 & 0 & 0 & 0\\end{matrix}\\right]$"
      ],
      "text/plain": [
       "⎡ A⋅E      -A⋅E    ⎤\n",
       "⎢ ───   0  ─────  0⎥\n",
       "⎢  L         L     ⎥\n",
       "⎢                  ⎥\n",
       "⎢  0    0    0    0⎥\n",
       "⎢                  ⎥\n",
       "⎢-A⋅E       A⋅E    ⎥\n",
       "⎢─────  0   ───   0⎥\n",
       "⎢  L         L     ⎥\n",
       "⎢                  ⎥\n",
       "⎣  0    0    0    0⎦"
      ]
     },
     "execution_count": 5,
     "metadata": {},
     "output_type": "execute_result"
    }
   ],
   "source": [
    "rigidez_local"
   ]
  },
  {
   "cell_type": "markdown",
   "metadata": {},
   "source": [
    "### Elemento 0\n",
    "\n",
    "Para este elemento, tenemos que el ángulo es 0, luego"
   ]
  },
  {
   "cell_type": "code",
   "execution_count": 6,
   "metadata": {},
   "outputs": [
    {
     "data": {
      "image/png": "[encoded data removed]",
      "text/latex": [
       "$\\displaystyle \\left[\\begin{matrix}\\frac{A E}{L_{0}} & 0 & - \\frac{A E}{L_{0}} & 0\\\\0 & 0 & 0 & 0\\\\- \\frac{A E}{L_{0}} & 0 & \\frac{A E}{L_{0}} & 0\\\\0 & 0 & 0 & 0\\end{matrix}\\right]$"
      ],
      "text/plain": [
       "⎡ A⋅E      -A⋅E    ⎤\n",
       "⎢ ───   0  ─────  0⎥\n",
       "⎢  L₀        L₀    ⎥\n",
       "⎢                  ⎥\n",
       "⎢  0    0    0    0⎥\n",
       "⎢                  ⎥\n",
       "⎢-A⋅E       A⋅E    ⎥\n",
       "⎢─────  0   ───   0⎥\n",
       "⎢  L₀        L₀    ⎥\n",
       "⎢                  ⎥\n",
       "⎣  0    0    0    0⎦"
      ]
     },
     "execution_count": 6,
     "metadata": {},
     "output_type": "execute_result"
    }
   ],
   "source": [
    "rigidez_0 = T.T.subs(theta, 0) * rigidez_local.subs(L, L0) * T.subs(theta, 0)\n",
    "rigidez_0"
   ]
  },
  {
   "cell_type": "markdown",
   "metadata": {},
   "source": [
    "### Elemento 1\n",
    "\n",
    "Para este elemento $\\theta = 5\\pi/6$, luego"
   ]
  },
  {
   "cell_type": "code",
   "execution_count": 7,
   "metadata": {},
   "outputs": [
    {
     "data": {
      "image/png": "[encoded data removed]",
      "text/latex": [
       "$\\displaystyle \\left[\\begin{matrix}\\frac{3 A E}{4 L_{1}} & \\frac{\\sqrt{3} A E}{4 L_{1}} & - \\frac{3 A E}{4 L_{1}} & - \\frac{\\sqrt{3} A E}{4 L_{1}}\\\\\\frac{\\sqrt{3} A E}{4 L_{1}} & \\frac{A E}{4 L_{1}} & - \\frac{\\sqrt{3} A E}{4 L_{1}} & - \\frac{A E}{4 L_{1}}\\\\- \\frac{3 A E}{4 L_{1}} & - \\frac{\\sqrt{3} A E}{4 L_{1}} & \\frac{3 A E}{4 L_{1}} & \\frac{\\sqrt{3} A E}{4 L_{1}}\\\\- \\frac{\\sqrt{3} A E}{4 L_{1}} & - \\frac{A E}{4 L_{1}} & \\frac{\\sqrt{3} A E}{4 L_{1}} & \\frac{A E}{4 L_{1}}\\end{matrix}\\right]$"
      ],
      "text/plain": [
       "⎡ 3⋅A⋅E     √3⋅A⋅E   -3⋅A⋅E    -√3⋅A⋅E ⎤\n",
       "⎢ ─────     ──────   ───────   ────────⎥\n",
       "⎢  4⋅L₁      4⋅L₁      4⋅L₁      4⋅L₁  ⎥\n",
       "⎢                                      ⎥\n",
       "⎢ √3⋅A⋅E     A⋅E     -√3⋅A⋅E    -A⋅E   ⎥\n",
       "⎢ ──────     ────    ────────   ─────  ⎥\n",
       "⎢  4⋅L₁      4⋅L₁      4⋅L₁      4⋅L₁  ⎥\n",
       "⎢                                      ⎥\n",
       "⎢-3⋅A⋅E    -√3⋅A⋅E    3⋅A⋅E     √3⋅A⋅E ⎥\n",
       "⎢───────   ────────   ─────     ────── ⎥\n",
       "⎢  4⋅L₁      4⋅L₁      4⋅L₁      4⋅L₁  ⎥\n",
       "⎢                                      ⎥\n",
       "⎢-√3⋅A⋅E    -A⋅E      √3⋅A⋅E     A⋅E   ⎥\n",
       "⎢────────   ─────     ──────     ────  ⎥\n",
       "⎣  4⋅L₁      4⋅L₁      4⋅L₁      4⋅L₁  ⎦"
      ]
     },
     "execution_count": 7,
     "metadata": {},
     "output_type": "execute_result"
    }
   ],
   "source": [
    "rigidez_1 = T.T.subs(theta, 5*pi/6) * rigidez_local.subs(L, L1) * T.subs(theta, 5*pi/6)\n",
    "rigidez_1"
   ]
  },
  {
   "cell_type": "markdown",
   "metadata": {},
   "source": [
    "### Elemento 2\n",
    "\n",
    "Para este elemento $\\theta = \\pi/2$, luego"
   ]
  },
  {
   "cell_type": "code",
   "execution_count": null,
   "metadata": {},
   "outputs": [],
   "source": [
    "rigidez_2 = T.T.subs(theta, pi/2) * rigidez_local.subs(L, L2) * T.subs(theta, pi/2)\n",
    "rigidez_2"
   ]
  },
  {
   "cell_type": "markdown",
   "metadata": {},
   "source": [
    "## Referencias"
   ]
  },
  {
   "cell_type": "markdown",
   "metadata": {},
   "source": [
    "1. Abani Patra. (Marzo 15, 1999). Trusses and Transformations. Fecha de acceso: Octubre 28, 2019, disponible en: http://www.eng.buffalo.edu/~abani/fem/node6.html."
   ]
  }
 ],
 "metadata": {
  "kernelspec": {
   "display_name": "Python 3",
   "language": "python",
   "name": "python3"
  },
  "language_info": {
   "codemirror_mode": {
    "name": "ipython",
    "version": 3
   },
   "file_extension": ".py",
   "mimetype": "text/x-python",
   "name": "python",
   "nbconvert_exporter": "python",
   "pygments_lexer": "ipython3",
   "version": "3.7.1"
  },
  "varInspector": {
   "cols": {
    "lenName": 16,
    "lenType": 16,
    "lenVar": 40
   },
   "kernels_config": {
    "python": {
     "delete_cmd_postfix": "",
     "delete_cmd_prefix": "del ",
     "library": "var_list.py",
     "varRefreshCmd": "print(var_dic_list())"
    },
    "r": {
     "delete_cmd_postfix": ") ",
     "delete_cmd_prefix": "rm(",
     "library": "var_list.r",
     "varRefreshCmd": "cat(var_dic_list()) "
    }
   },
   "types_to_exclude": [
    "module",
    "function",
    "builtin_function_or_method",
    "instance",
    "_Feature"
   ],
   "window_display": false
  }
 },
 "nbformat": 4,
 "nbformat_minor": 2
}
