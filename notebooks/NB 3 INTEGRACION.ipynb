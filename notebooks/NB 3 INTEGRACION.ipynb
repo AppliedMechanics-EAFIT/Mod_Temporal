{
 "cells": [
  {
   "cell_type": "markdown",
   "metadata": {},
   "source": [
    "# Integración numerica"
   ]
  },
  {
   "cell_type": "markdown",
   "metadata": {},
   "source": [
    "## Introducción"
   ]
  },
  {
   "cell_type": "markdown",
   "metadata": {},
   "source": [
    "Discutiremos de manera breve la definición de cuadratura. Posteriormente nos concentraremos en las cuadraturas Gaussianas que por su eficiencia y facilidad de sistematización son de amplio uso en ingeniería y física. Para estas cubriremos su desarrollo general y su implementación en Python. Los detalles de la cudratura Gaussiana y su implementación se discutirán por medio de un ejemplo. **Al completar este notebook usted debería estar en la capacidad de:**\n",
    "\n",
    "* Identificar una cuadratura como una formula de evaluar integrales numericamente.\n",
    "\n",
    "* Identificar la relación entre la función a integrar y el tipo de esquema requerido para su evaluación.\n",
    "\n",
    "* Evaluar integrales numericamente usando cuadraturas Gaussianas."
   ]
  },
  {
   "cell_type": "markdown",
   "metadata": {},
   "source": [
    "## Cuadraturas.\n",
    "\n",
    "Una cuadratura es una formula para la evaluación numerica de integrales de la forma general:\n",
    "\n",
    "\n",
    "$$I=\\int_{V(\\overrightarrow x)}f(\\overrightarrow x)\\operatorname d{V(\\overrightarrow x)\\approx\\sum_{i=1}^{Npts}f(\\overrightarrow{x_i})w_i}.$$\n",
    "\n",
    "Note que esta expresión corresponde a la evaluación de la función $f(x)$ en $Npts$ de coordenadas $x_i$ multiplicados por $Npts$ factores constantes $w_i$. Los factores se denominan **pesos** o factores de ponderación ya que se encargan de ponderar la contribución de cada termino $f(x_i)$ a $I.$\n",
    "\n",
    "## Ejemplo: regla del trapecio.\n",
    "Una cuadratura con la cual estamos familiarizados es la regla del trapecio dada por:\n",
    "\n",
    "$$\n",
    "I=\\int_a^bf(x)\\operatorname dx\\approx\\frac h2\\left[f(a)+f(b)\\right]\n",
    "$$\n",
    "\n",
    "en donde $h=b-a$. En esta expresión podemos reconocer los factores de ponderación $w_1 = h/2$, $w_2 = h/2$ y los puntos de evaluación $x_1 = a$ y $x_2 = b$.\n",
    "\n",
    "Por ejemplo consideremos la siguiente integral:\n",
    "\n",
    "$$\n",
    "I=\\int_{-1}^{+1}(x^3+4x^2-10)\\operatorname dx\\approx1.0\\ast f(-1)+1.0\\ast f(+1)=-12\n",
    "$$\n",
    "\n",
    "## Cuadraturas Gaussianas.\n",
    "Una de las cuadraturas mas poderosas encontradas en la practica son las denomindas cuadraturas [Gaussianas](https://en.wikipedia.org/wiki/Gaussian_quadrature). En estas los factores de ponderación $w_i$ y los puntos de evalaución $x_i$ son seleccionados de manera que se obtenga la mejor aproximación (mínimo error) de la manera mas efectiva (mínimo número de puntos de evaluación). El ser formuladas usando un proceso de ajuste de $2*Npts$ paramétros correspondientes a los $Npts$ pesos y a los $Npts$ puntos de evaluación permiten integrar de manera exacta funciones polinomicas de orden a lo sumo $2*Npts-1$.\n",
    "\n",
    "La principal desventaja de las cuadraturas Gaussianas es el hecho de que en estas los puntos de evaluación se encuentran especificados en términos de coordenadas en el rango fijo entre $x=-1$ y $x=+1$ lo cual obliga a que para resolver una integral con límites $x=a$ y $x=b$ sea necesario realizar una transformación previa o cambio de variables. Para evitar confusiones en la notación denotemos el espacio en el que se indican las coordenadas de las cuadraturas Gaussinas mediante la letra $r$, de manera que el cambio de variables se expresa como:\n",
    "\n",
    "$$\n",
    "I=\\int_{x=a}^{x=b}f(x)\\operatorname dx\\equiv\\int_{r=-1}^{r=+1}F(r)\\operatorname dr.\n",
    "$$\n",
    "\n",
    "Notese que el cambio de variables implica:\n",
    "\n",
    "* Relacionar $x$ y $r$ lo que podemos escribir de forma general como $x = x(r)$ y $r = r(x)$.\n",
    "\n",
    "* Expresar $f(x)$ en términos de la nueva variable de acuerdo con $\\hat F (r) = f[x(r)]$.\n",
    "\n",
    "* Expresar $dx$ en términos de $dr$.\n",
    "\n",
    "## Cuadratura de 2 puntos.\n",
    "Considere el caso de una cuadratura de 2 puntos, es decir $Npts =2$. En este caso los factores de ponderación y puntos de evaluación se especifican en la siguiente tabla:\n",
    "\n",
    "<center><img src=\"images/tabla1.png\" alt=\"Element\" style=\"width:100px\"></center>\n",
    "\n",
    "\n",
    "Para realizar el cambio de variables asumamos que la relación entre las variables independientes $x$ y $r$ es líneal de manera que:\n",
    "\n",
    "$$\n",
    "x(r)=\\frac12(a+b)+\\frac r2(b-a)\\equiv\\frac12(a+b)+\\frac h2r\n",
    "$$\n",
    "\n",
    "\n",
    "y por lo tanto:\n",
    "\n",
    "$$\n",
    "dx=\\frac h2dr\n",
    "$$\n",
    "\n",
    "lo que produce la sigueinte equivalencia entre las integrales en los 2 espacios:\n",
    "\n",
    "$$\n",
    "I=\\int_{x=a}^{x=b}f(x)\\operatorname dx\\equiv\\int_{r=-1}^{r=+1}f\\lbrack x(r)\\rbrack\\frac h2\\operatorname dr.\n",
    "$$\n",
    "\n",
    "Claramente la integral ahora formulada en el espacio de $r$ es facilmente evaluable mediante las coordenadas y pesos de la tabla."
   ]
  },
  {
   "cell_type": "markdown",
   "metadata": {},
   "source": [
    "<div class=\"alert alert-warning\">\n",
    "Consultar los factores y puntos de integración para una cuadratura Gaussiana de 4 puntos.\n",
    "</div>"
   ]
  },
  {
   "cell_type": "markdown",
   "metadata": {},
   "source": [
    "## Solución en Python\n",
    "En los bloques de código que se presentan a continuación se implementa la cuadratura Gaussiana de 2 puntos para calcular la integral:\n",
    "\n",
    "$$\n",
    "I=\\int_{x = -1}^{x = +1}(x^3+4x^2-10)\\operatorname dx\n",
    "$$\n",
    "\n",
    "**Adicionar comentarios a cada uno de los bloques de código que se presentan a continuación.**"
   ]
  },
  {
   "cell_type": "code",
   "execution_count": 11,
   "metadata": {},
   "outputs": [],
   "source": [
    "%matplotlib notebook        \n",
    "import matplotlib.pyplot as plt\n",
    "import numpy as np\n",
    "import sympy as sym"
   ]
  },
  {
   "cell_type": "markdown",
   "metadata": {},
   "source": [
    "<div class=\"alert alert-warning\">\n",
    "En el espacio encerrado entre comillas en cada una de las siguientes subrutinas indique el significado de cada uno de los parámetros y su tipo de dato.\n",
    "</div>"
   ]
  },
  {
   "cell_type": "code",
   "execution_count": 7,
   "metadata": {},
   "outputs": [],
   "source": [
    "def gpoints2():\n",
    "    \"\"\"\n",
    "    Cuadratura de Gauss de 2 puntos\n",
    "\n",
    "    \"\"\"\n",
    "    xw = np.zeros([2])\n",
    "    xp = np.zeros([2])\n",
    "    xw[:] = 1.0\n",
    "    xp[0] = -0.577350269189626\n",
    "    xp[1] = 0.577350269189626\n",
    "    \n",
    "    return xw, xp"
   ]
  },
  {
   "cell_type": "code",
   "execution_count": 8,
   "metadata": {},
   "outputs": [],
   "source": [
    "def transform(a , b , r):\n",
    "    \"\"\"\n",
    "\n",
    "    \"\"\"\n",
    "    h = b-a\n",
    "    xr =(a + b)/2.0+h*r/2.0\n",
    "        \n",
    "    return xr , h"
   ]
  },
  {
   "cell_type": "code",
   "execution_count": 9,
   "metadata": {},
   "outputs": [],
   "source": [
    "def myfun(x):\n",
    "    \"\"\"\n",
    "\n",
    "    \"\"\"\n",
    "    fx = x**3+4*x**2-10\n",
    "        \n",
    "    return fx"
   ]
  },
  {
   "cell_type": "markdown",
   "metadata": {},
   "source": [
    "<div class=\"alert alert-warning\">\n",
    "Adicione comentarios al código de integración.\n",
    "</div>"
   ]
  },
  {
   "cell_type": "code",
   "execution_count": 10,
   "metadata": {},
   "outputs": [
    {
     "name": "stdout",
     "output_type": "stream",
     "text": [
      "-17.333333333333332\n"
     ]
    }
   ],
   "source": [
    "ngpts = 2\n",
    "a = -1.0\n",
    "b = +1.0\n",
    "Integral = 0.0\n",
    "xw, xp = gpoints2()\n",
    "for i in range(0,ngpts):\n",
    "    xr , h = transform(a , b , xp[i])\n",
    "    fx = myfun(xr)\n",
    "    Integral = Integral + fx*h/2.0*xw[i]\n",
    "print(Integral)"
   ]
  },
  {
   "cell_type": "markdown",
   "metadata": {},
   "source": [
    "<div class=\"alert alert-warning\">\n",
    "\n",
    "**Preguntas:**\n",
    "\n",
    "**(i) Modificar el código anterior para calcular la integral con una cuadratura de 3 puntos.**\n",
    "\n",
    "**(ii) Repetir el calculo de la integral anterior si ahora los limites de integración son $a =0$ y $b=2$.**\n",
    "\n",
    "**(iii) Usando la cuadratura Gaussiana calcular la siguiente integral:**\n",
    "\n",
    "$$I=\\int_{x=3.0}^{x=6.0}{}\\operatorname dx$$\n",
    "\n",
    "**(iv) Como sería la generalización de la cuadratura Gaussiana sobre un cuadrilatero?**\n",
    "\n",
    "</div>"
   ]
  },
  {
   "cell_type": "markdown",
   "metadata": {},
   "source": [
    "### Glosario de términos\n",
    "\n",
    "**Cuadratura:** Formula de integración numerica compuesta por un conjunto de puntos de evaluación y factores de ponderación.\n",
    "\n",
    "**Punto de integración:** Punto de evaluación de la función a integrar mediante una cuadratura numerica.\n",
    "\n",
    "**Punto de Gauss:** Punto de integración en una cuadratura Gaussiana.\n",
    "\n",
    "**Factor de ponderación:** Constante que pondera la contribución de la función a la integral cuando esta es evaluada en un punto de integración determinado."
   ]
  },
  {
   "cell_type": "markdown",
   "metadata": {},
   "source": [
    "### Actividad para la clase\n",
    "\n",
    "\n",
    "La figura muestra el problema de una cuña de semi-angulo interno $\\phi=\\frac\\pi4$ y lado $\\ell = 10.0$ sometida a tracciones en las superficies inclinadas de magnitud $S = 1.0$.\n",
    "\n",
    "\n",
    "<center><img src=\"images/wedge.png\" alt=\"files\" style=\"width:300px\"></center>\n",
    "\n",
    "\n",
    "Considerando que la relaciónes deformación-desplazamiento y tensión-deformación estan dadas por:\n",
    "\n",
    "$$\\varepsilon_{xx}=\\frac{\\partial u}{\\partial x}$$\n",
    "\n",
    "$$\\varepsilon_{yy}=\\frac{\\partial v}{\\partial y}$$\n",
    "\n",
    "\n",
    "$$\\sigma_{xx}=\\frac E{1+\\nu}\\varepsilon_{xx}+\\frac{\\nu E}{(1+\\nu)(1-2\\nu)}\\left(\\varepsilon_{xx}+\\varepsilon_{yy}\\right)$$\n",
    "\n",
    "$$\\sigma_{yy}=\\frac E{1+\\nu}\\varepsilon_{yy}+\\frac{\\nu E}{(1+\\nu)(1-2\\nu)}\\left(\\varepsilon_{xx}+\\varepsilon_{yy}\\right)$$\n",
    "\n",
    "respectivamente, se pide:\n",
    "\n",
    "* (i) Calcular la energía de deformación del sistema dada por:\n",
    "\n",
    "$$I=\\int_S(\\sigma_{xx}\\varepsilon_{xx}+\\sigma_{yy}\\varepsilon_{yy})\\cdot 1\\cdot\\operatorname dS$$\n",
    "\n",
    "asumiendo que los desplazamientos en los puntos izquierdo y derecho estan dados por $\\overrightarrow u^{Izq}=-2.0\\widehat i$ y $\\overrightarrow u^{Der}=+2.0\\widehat i$ respectivamente, mientras que los de los piuntos superior e inferior corresponden a $\\overrightarrow u^{Sup}=-2.0\\widehat j$ y $\\overrightarrow u^{Inf}=+2.0\\widehat j$\n",
    "\n",
    "* (ii) Verifique que su resultado es correcto comparando con la solución analitica del problema."
   ]
  },
  {
   "cell_type": "code",
   "execution_count": 6,
   "metadata": {},
   "outputs": [
    {
     "data": {
      "text/html": [
       "\n",
       "<link href='http://fonts.googleapis.com/css?family=Fenix' rel='stylesheet' type='text/css'>\n",
       "<link href='http://fonts.googleapis.com/css?family=Alegreya+Sans:100,300,400,500,700,800,900,100italic,300italic,400italic,500italic,700italic,800italic,900italic' rel='stylesheet' type='text/css'>\n",
       "<link href='http://fonts.googleapis.com/css?family=Source+Code+Pro:300,400' rel='stylesheet' type='text/css'>\n",
       "<style>\n",
       "/* Based on Lorena Barba template available at: https://github.com/barbagroup/AeroPython/blob/master/styles/custom.css*/\n",
       "@font-face {\n",
       "font-family: \"Computer Modern\";\n",
       "src: url('http://mirrors.ctan.org/fonts/cm-unicode/fonts/otf/cmunss.otf');\n",
       "}\n",
       "div.cell{\n",
       "width:800px;\n",
       "margin-left:16% !important;\n",
       "margin-right:auto;\n",
       "}\n",
       "h1 {\n",
       "font-family: 'Alegreya Sans', sans-serif;\n",
       "}\n",
       "h2 {\n",
       "font-family: 'Fenix', serif;\n",
       "}\n",
       "h3{\n",
       "font-family: 'Fenix', serif;\n",
       "margin-top:12px;\n",
       "margin-bottom: 3px;\n",
       "}\n",
       "h4{\n",
       "font-family: 'Fenix', serif;\n",
       "}\n",
       "h5 {\n",
       "font-family: 'Alegreya Sans', sans-serif;\n",
       "}\t\n",
       "div.text_cell_render{\n",
       "font-family: 'Alegreya Sans',Computer Modern, \"Helvetica Neue\", Arial, Helvetica, Geneva, sans-serif;\n",
       "line-height: 135%;\n",
       "font-size: 120%;\n",
       "width:600px;\n",
       "margin-left:auto;\n",
       "margin-right:auto;\n",
       "}\n",
       ".CodeMirror{\n",
       "font-family: \"Source Code Pro\";\n",
       "font-size: 90%;\n",
       "}\n",
       "/* .prompt{\n",
       "display: None;\n",
       "}*/\n",
       ".text_cell_render h1 {\n",
       "font-weight: 200;\n",
       "font-size: 50pt;\n",
       "line-height: 100%;\n",
       "color:#CD2305;\n",
       "margin-bottom: 0.5em;\n",
       "margin-top: 0.5em;\n",
       "display: block;\n",
       "}\t\n",
       ".text_cell_render h5 {\n",
       "font-weight: 300;\n",
       "font-size: 16pt;\n",
       "color: #CD2305;\n",
       "font-style: italic;\n",
       "margin-bottom: .5em;\n",
       "margin-top: 0.5em;\n",
       "display: block;\n",
       "}\n",
       ".warning{\n",
       "color: rgb( 240, 20, 20 )\n",
       "}\n",
       "</style>\n",
       "<script>\n",
       "MathJax.Hub.Config({\n",
       "TeX: {\n",
       "extensions: [\"AMSmath.js\"]\n",
       "},\n",
       "tex2jax: {\n",
       "inlineMath: [ ['$','$'], [\"\\\\(\",\"\\\\)\"] ],\n",
       "displayMath: [ ['$$','$$'], [\"\\\\[\",\"\\\\]\"] ]\n",
       "},\n",
       "displayAlign: 'center', // Change this to 'center' to center equations.\n",
       "\"HTML-CSS\": {\n",
       "styles: {'.MathJax_Display': {\"margin\": 4}}\n",
       "}\n",
       "});\n",
       "</script>\n",
       "\n"
      ],
      "text/plain": [
       "<IPython.core.display.HTML object>"
      ]
     },
     "execution_count": 6,
     "metadata": {},
     "output_type": "execute_result"
    }
   ],
   "source": [
    "# This bit of code is a class added to make the title nice  (thanks to @lorenABarba )\n",
    "from IPython.core.display import HTML\n",
    "def css_styling():\n",
    "    styles = open('./styles/custom_barba.css', 'r').read()\n",
    "    return HTML(styles)\n",
    "css_styling()"
   ]
  },
  {
   "cell_type": "markdown",
   "metadata": {
    "collapsed": true
   },
   "source": [
    "(c) Juan Gomez, Nicolas Guarín 2019. Este material es parte del curso Modelación Computacional en el programa de Ingeiería Civil de la Universidad EAFIT."
   ]
  },
  {
   "cell_type": "code",
   "execution_count": null,
   "metadata": {},
   "outputs": [],
   "source": []
  }
 ],
 "metadata": {
  "celltoolbar": "Raw Cell Format",
  "kernelspec": {
   "display_name": "Python 3",
   "language": "python",
   "name": "python3"
  },
  "language_info": {
   "codemirror_mode": {
    "name": "ipython",
    "version": 3
   },
   "file_extension": ".py",
   "mimetype": "text/x-python",
   "name": "python",
   "nbconvert_exporter": "python",
   "pygments_lexer": "ipython3",
   "version": "3.7.3"
  }
 },
 "nbformat": 4,
 "nbformat_minor": 1
}
