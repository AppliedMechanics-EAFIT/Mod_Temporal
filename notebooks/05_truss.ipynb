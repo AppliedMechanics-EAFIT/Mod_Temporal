{
 "cells": [
  {
   "cell_type": "markdown",
   "metadata": {
    "raw_mimetype": "text/latex"
   },
   "source": [
    "Contenido bajo licencia Creative Commons BY 4.0 y código bajo licencia MIT. © Juan Gómez y Nicolas Guarín-Zapata 2019. Este material es parte del curso Modelación Computacional en el programa de Ingeniería Civil de la Universidad EAFIT."
   ]
  },
  {
   "cell_type": "markdown",
   "metadata": {},
   "source": [
    "# Cerchas planas"
   ]
  },
  {
   "cell_type": "markdown",
   "metadata": {},
   "source": [
    "## Introducción\n",
    "\n",
    "En este Notebook se parte del programa de resortes simple discutido anteriormente y tras realizar cambios menores en algunos paramétros este se modifica para que resuelva estructuras correspondientes a cerchas planas. Además se introducen los conceptos de sistemas de referencia locales a los elementos y global para la estructura así como la relación entre ambos.\n",
    "\n",
    "**Al completar este notebook usted debería estar en la capacidad de:**\n",
    "\n",
    "* Entender el algoritmo de solución de estructuras como un proceso general de ensamblaje de rigideces en un sistema global de ecuaciones.\n",
    "\n",
    "* Reconocer la diferencia entre los sistemas de referencia local (propio de cada elemento) y global (para toda la estructura) y la necesidad de expresar las rigideces en único sistema de referencia.\n",
    "\n",
    "* Expresar relaciones fuerza-desplazamiento en los sistemas de referencia local y global.\n",
    "\n",
    "* Reconocer las modificaciones necesarias para convertir un programa fundamental de ensamblaje de resortes en uno para estrucuturas mas complejas."
   ]
  },
  {
   "cell_type": "markdown",
   "metadata": {},
   "source": [
    "### Ensamblaje de elementos cercha\n",
    "\n",
    "En lo que sigue se usarán las siguientes condiciones.\n",
    "\n",
    "- Se asumirán estructuras correspondientes a ensamblajes de elementos barra conectados por articulaciones en sus uniones.\n",
    "\n",
    "- Por sus condiciones geométricas se asume que los elementos solo tienen rígidez axial y que por ende estos pueden entenderse como equivalentes a resortes de rígidez $k=\\frac{AE}{\\mathcal l}$.\n",
    "\n",
    "La siguiente figura muestra un elemento típico. El eje de referencia $x$ dispuesto en la dirección longitudinal del elemento representa el sistema **local** de referencia. Notese que si se estudia el elemento en sus sitema local este es compleamente equivalente al resorte discutido anteriormente.\n",
    "\n",
    "\n",
    "<center><img src=\"images/trussloc.png\" alt=\"files\" style=\"width:400px\"></center>\n",
    "\n",
    "Usando $k=\\frac{AE}{\\mathcal l}$ se tiene que la relación fuerza-desplazamiento en el sistema local de referencia es de la forma:\n",
    "\n",
    "$$\n",
    "\\begin{Bmatrix}f_1\\\\f_2\\end{Bmatrix}=\\frac{AE}{\\mathcal l}\\begin{bmatrix}1&-1\\\\-1&1\\end{bmatrix}\\begin{Bmatrix}u_1\\\\u_2\\end{Bmatrix}.\n",
    "$$\n",
    "\n",
    "\n",
    "\n",
    "Considere ahora la siguiente estructura o ensamblaje conformado por 2 elementos tipo barra. Asumiendo que se conocen las relaciones fuerza-desplazamiento para cada una de las barras de la cercha se requiere determinar el desplazamiento del vertice superior de la cercha y las fuerzas internas en los elementos.\n",
    "\n",
    "\n",
    "<center><img src=\"images/cercha2.png\" alt=\"files\" style=\"width:500px\"></center>\n",
    "\n",
    "\n",
    "Notese que además del sistema de referencia local de cada elemento ahora se tiene un sistema de referencia único denotado como $X-Y$ y denomimado el sistema de referencia **Global**.\n",
    "Para obtener la rígidez total de la estructura es necesario considerar la contribución de todos los elementos en el sistema de referencia de la cercha. Será necesario entonces transformar la matriz de rígidez de cada elemento del sistema local al sistema común o global. Para esto es conveniente definir:\n",
    "\n",
    "* $U, F$ : Desplazamientos (o grados de libertad) y fuerzas en el sistema de referencia global.\n",
    "* $u, f$ : Desplazamientos (o grados de libertad) y fuerzas en el sistema de referencia local.\n",
    "\n",
    "Estas variables se relacionan mediante la matriz de rotación $\\lambda$ de acuerdo con;\n",
    "\n",
    "$$u=\\lambda U.$$\n",
    "\n",
    "Suponiendo que aplicamos ahora un desplazamiento $\\delta u$ y determinamos el trabajo de las fuerzas a lo largo de este desplazamiento de acuerdo con:\n",
    "\n",
    "$$\n",
    "W = \\delta u^Tf.\n",
    "$$\n",
    "\n",
    "Ahora, dado que el trabajo es una cantidad escalar y por lo tanto independiente del sistema de referencia es valido escribir:\n",
    "\n",
    "$$W = \\delta U^TF=\\delta u^Tf.$$\n",
    "\n",
    "Usando la ecuación de transformación bajo rotación en esta última se obtiene:\n",
    "\n",
    "$$\\delta U^TF=\\delta U^T\\lambda^Tf$$\n",
    "\n",
    "de donde se concluye que\n",
    "\n",
    "$$F=\\lambda^Tf.$$\n",
    "\n",
    "Si ahora se consideran las relaciones fuerza-desplazamiento\n",
    "\n",
    "$$f=ku$$\n",
    "\n",
    "donde $k$ es la matriz de rígidez local se tiene que podemos escribir:\n",
    "\n",
    "$$\\begin{array}{l}\\lambda^Tf=\\lambda^Tku\\\\\\lambda^Tf=\\lambda^Tk\\lambda U\\\\F=KU\\end{array}$$\n",
    "\n",
    "de donde se obtiene la ecuación de transformación bajo rotación de las relaciones fuerza-desplazamiento en un sistema de referencia local y un sistema global\n",
    "\n",
    "$$K=\\lambda^Tk\\lambda.$$\n",
    "\n",
    "Es importante observar que en el sistema global el elemento tiene 2 grados de libertad por nudo minetras que en el sistema local solo existe el desplazamiento axial.\n",
    "\n",
    "La información requerida para calcular $K$ es entregada como parametros de entrada a la subrutina **uel()** como se describe a continuación.\n",
    "\n",
    "<div class=\"alert alert-warning\">\n",
    "\n",
    "**Encuentre la matriz de transformación bajo rotación $\\lambda$ requerida para la formulación de la matriz de rígidez en el sistema de referencia global.**\n",
    "\n",
    "</div>\n"
   ]
  },
  {
   "cell_type": "markdown",
   "metadata": {},
   "source": [
    "### Ejemplo"
   ]
  },
  {
   "cell_type": "markdown",
   "metadata": {},
   "source": [
    "Las modificaciones que se deben aplicar al programa de resortes son solo aquellas relacionadas con el hecho de que ahora se tienen 2 grados de libertad por nudo.\n",
    "\n",
    "(Los archivos de texto con los datos de entrada para las partículas, elementos, coeficientes de rígidez y cargas de eeste problema estan almacenados en la carpeta **files** de este REPO)."
   ]
  },
  {
   "cell_type": "code",
   "execution_count": 10,
   "metadata": {},
   "outputs": [],
   "source": [
    "%matplotlib inline        \n",
    "import matplotlib.pyplot as plt\n",
    "import numpy as np\n",
    "import sympy as sym"
   ]
  },
  {
   "cell_type": "markdown",
   "metadata": {},
   "source": [
    "Lea los archivos de entrada de la carpeta **files**. "
   ]
  },
  {
   "cell_type": "code",
   "execution_count": 11,
   "metadata": {},
   "outputs": [],
   "source": [
    "def readin():\n",
    "    nodes    = np.loadtxt('files/' + 'Cnodes.txt', ndmin=2)\n",
    "    mats     = np.loadtxt('files/' + 'Cmater.txt', ndmin=2)\n",
    "    elements = np.loadtxt('files/' + 'Celes.txt' , ndmin=2)\n",
    "    loads    = np.loadtxt('files/' + 'Cloads.txt', ndmin=2)\n",
    "\n",
    "    return nodes, mats, elements, loads"
   ]
  },
  {
   "cell_type": "markdown",
   "metadata": {},
   "source": [
    "La subrutina **eqcounter()** cuenta ecuaciones y genera el arreglo de condiciones de frontera."
   ]
  },
  {
   "cell_type": "code",
   "execution_count": 12,
   "metadata": {},
   "outputs": [],
   "source": [
    "def eqcounter(nodes):\n",
    "    nnodes = nodes.shape[0]\n",
    "    IBC = np.zeros([nnodes, 2], dtype=np.integer)\n",
    "    for i in range(nnodes):\n",
    "        for k in range(2):\n",
    "            IBC[i , k] = int(nodes[i , k+3])\n",
    "    neq = 0\n",
    "    for i in range(nnodes):\n",
    "        for j in range(2):\n",
    "            if IBC[i, j] == 0:\n",
    "                IBC[i, j] = neq\n",
    "                neq = neq + 1\n",
    "\n",
    "    return neq, IBC"
   ]
  },
  {
   "cell_type": "markdown",
   "metadata": {},
   "source": [
    "Ahora la subrutina **DME()** calcula la matriz de ensamblaje de ecuaciones."
   ]
  },
  {
   "cell_type": "code",
   "execution_count": 13,
   "metadata": {},
   "outputs": [],
   "source": [
    "def DME(nodes, elements):\n",
    "\n",
    "    nels = elements.shape[0]\n",
    "    IELCON = np.zeros([nels, 2], dtype=np.integer)\n",
    "    DME    = np.zeros([nels, 4], dtype=np.integer)\n",
    "    neq , IBC = eqcounter(nodes)\n",
    "    ndof   = 4\n",
    "    nnodes = 2\n",
    "    for i in range(nels):\n",
    "        for j in range(nnodes):\n",
    "            IELCON[i, j] = elements[i, j+3]\n",
    "            kk = IELCON[i, j]\n",
    "            for l in range(2):\n",
    "                DME[i, 2*j+l] = IBC[kk, l]\n",
    "    return DME , IBC , neq"
   ]
  },
  {
   "cell_type": "markdown",
   "metadata": {},
   "source": [
    "La rutina **assembly()** usa el modelo y la matriz **DME** para calcular la matriz de rígidez global."
   ]
  },
  {
   "cell_type": "code",
   "execution_count": 14,
   "metadata": {},
   "outputs": [],
   "source": [
    "def assembly(elements, mats, nodes, neq, DME, uel=None):\n",
    "\n",
    "    IELCON = np.zeros([2], dtype=np.integer)\n",
    "    KG = np.zeros((neq, neq))\n",
    "    nels = elements.shape[0]\n",
    "    nnodes = 2\n",
    "    ndof = 4\n",
    "    for el in range(nels):\n",
    "        elcoor = np.zeros([nnodes, 2])\n",
    "        im     = np.int(elements[el , 2])\n",
    "        par0= mats[im ,0]\n",
    "        par1= mats[im , 1]\n",
    "        for j in range(nnodes):\n",
    "            IELCON[j] = elements[el , j+3]\n",
    "            elcoor[j , 0] = nodes[IELCON[j], 1]\n",
    "            elcoor[j , 1] = nodes[IELCON[j], 2]\n",
    "        kloc = ueltruss2D(elcoor, par0, par1)\n",
    "        dme = DME[el , :ndof]\n",
    "        for row in range(ndof):\n",
    "            glob_row = dme[row]\n",
    "            if glob_row != -1:\n",
    "                for col in range(ndof):\n",
    "                    glob_col = dme[col]\n",
    "                    if glob_col != -1:\n",
    "                        KG[glob_row, glob_col] = KG[glob_row, glob_col] +\\\n",
    "                                                 kloc[row, col]\n",
    "\n",
    "    return KG"
   ]
  },
  {
   "cell_type": "markdown",
   "metadata": {},
   "source": [
    "La rutina **ueltruss2D()** usa las coordenadas de los nudos y los paramétros de material para calcular la matriz de rígidez local ya transformada al sistema de referencia global.\n",
    "\n",
    "\n",
    "<div class=\"alert alert-warning\">\n",
    "    \n",
    "**Agregue un comentario a cada línea relevante de los códigos de las siguientes rutinas y uselos para escribir los pse-udo códigos correspondientes. En particular identifique el calculo de la matriz de transformación bajo rotación $\\lambda$.**\n",
    "\n",
    "</div>"
   ]
  },
  {
   "cell_type": "code",
   "execution_count": 15,
   "metadata": {},
   "outputs": [],
   "source": [
    "def ueltruss2D(coord, A, Emod):\n",
    "    vec = coord[1, :] - coord[0, :]\n",
    "    length = np.linalg.norm(vec)\n",
    "    nx = vec[0]/length\n",
    "    ny = vec[1]/length\n",
    "    Q = np.array([\n",
    "        [nx, ny , 0 , 0],\n",
    "        [0,  0, nx , ny]])\n",
    "    kl = (A*Emod/length) * np.array([\n",
    "        [1, -1],\n",
    "        [-1, 1]])\n",
    "    kG = np.dot(np.dot(Q.T, kl), Q)\n",
    "    return kG"
   ]
  },
  {
   "cell_type": "markdown",
   "metadata": {},
   "source": [
    "La rutina **loadassem()** forma el vector de cargas en los nudos."
   ]
  },
  {
   "cell_type": "code",
   "execution_count": 16,
   "metadata": {},
   "outputs": [],
   "source": [
    "def loadasem(loads, IBC, neq, nl):\n",
    "    RHSG = np.zeros([neq])\n",
    "    for i in range(nl):\n",
    "        il = int(loads[i, 0])\n",
    "        ilx = IBC[il , 0]\n",
    "        ily = IBC[il , 1]\n",
    "        if ilx != -1:\n",
    "            RHSG[ilx] = loads[i, 1]\n",
    "        if ily != -1:\n",
    "            RHSG[ily] = loads[i, 2]\n",
    "\n",
    "    return RHSG"
   ]
  },
  {
   "cell_type": "markdown",
   "metadata": {},
   "source": [
    "El programa principal mantiene la misma estructura que el programa de resortes en términos de los siguientes pasos:\n",
    "\n",
    "* Lee el modelo.\n",
    "* Determina la matriz de ensamblaje DME().\n",
    "* Ensambla el sistema global de ecuacioens.\n",
    "* Determina los desplazamientos globales $UG$ tras resolver el sistema global."
   ]
  },
  {
   "cell_type": "code",
   "execution_count": 17,
   "metadata": {},
   "outputs": [
    {
     "name": "stdout",
     "output_type": "stream",
     "text": [
      "[  0.         -21.21320344]\n"
     ]
    }
   ],
   "source": [
    "nodes, mats, elements, loads = readin()\n",
    "DME , IBC , neq = DME(nodes, elements)\n",
    "KG   = assembly(elements, mats, nodes, neq, DME)\n",
    "RHSG = loadasem(loads, IBC, neq, 1)\n",
    "UG = np.linalg.solve(KG, RHSG)\n",
    "print(UG)"
   ]
  },
  {
   "cell_type": "markdown",
   "metadata": {},
   "source": [
    "<div class=\"alert alert-warning\">\n",
    "    \n",
    "\n",
    "\n",
    "### Problemas propuestos\n",
    "\n",
    "#### Problema 1\n",
    "Implemente una rutina que calcule las fuerzas nodales en cada elemento y que verifique el equilibrio del sistema.\n",
    "\n",
    "#### Problema 2\n",
    "Determine la rígiez lateral de la estructura usando la relación:\n",
    "\n",
    "$$k=\\frac P\\delta$$\n",
    "\n",
    "#### Problema 3\n",
    "Introduzca las modificaciones necesarias a los archivos de entrada para adicionar una barra adicional al modelo y que conecte los nudos $0$ y $2$. Luego use este nuevo modelo para determinar los desplazamientos. Comente los resultados.\n",
    "\n",
    "#### Problema 4\n",
    "Repare la cercha mostrada en la figura adicionando elementosy/o iponiendo restricciones apropiadas a los desplazamientos. (Cree un nuevo paquete de archivos de datos).\n",
    "\n",
    "<center><img src=\"images/cercha3.png\" alt=\"files\" style=\"width:400px\"></center>\n",
    "\n",
    "</div>"
   ]
  },
  {
   "cell_type": "markdown",
   "metadata": {},
   "source": [
    "### References\n",
    "\n",
    "Bathe, Klaus-Jürgen. (2006) Finite element procedures. Klaus-Jurgen Bathe. Prentice Hall International.\n",
    "\n",
    "Juan Gómez, Nicolás Guarín-Zapata (2018). SolidsPy: 2D-Finite Element Analysis with Python, <https://github.com/AppliedMechanics-EAFIT/SolidsPy>."
   ]
  },
  {
   "cell_type": "code",
   "execution_count": 18,
   "metadata": {},
   "outputs": [
    {
     "data": {
      "text/html": [
       "\n",
       "<link href='http://fonts.googleapis.com/css?family=Fenix' rel='stylesheet' type='text/css'>\n",
       "<link href='http://fonts.googleapis.com/css?family=Alegreya+Sans:100,300,400,500,700,800,900,100italic,300italic,400italic,500italic,700italic,800italic,900italic' rel='stylesheet' type='text/css'>\n",
       "<link href='http://fonts.googleapis.com/css?family=Source+Code+Pro:300,400' rel='stylesheet' type='text/css'>\n",
       "<style>\n",
       "/* Based on Lorena Barba template available at: https://github.com/barbagroup/AeroPython/blob/master/styles/custom.css*/\n",
       "@font-face {\n",
       "font-family: \"Computer Modern\";\n",
       "src: url('http://mirrors.ctan.org/fonts/cm-unicode/fonts/otf/cmunss.otf');\n",
       "}\n",
       "div.cell{\n",
       "width:800px;\n",
       "margin-left:16% !important;\n",
       "margin-right:auto;\n",
       "}\n",
       "h1 {\n",
       "font-family: 'Alegreya Sans', sans-serif;\n",
       "}\n",
       "h2 {\n",
       "font-family: 'Fenix', serif;\n",
       "}\n",
       "h3{\n",
       "font-family: 'Fenix', serif;\n",
       "margin-top:12px;\n",
       "margin-bottom: 3px;\n",
       "}\n",
       "h4{\n",
       "font-family: 'Fenix', serif;\n",
       "}\n",
       "h5 {\n",
       "font-family: 'Alegreya Sans', sans-serif;\n",
       "}\t\n",
       "div.text_cell_render{\n",
       "font-family: 'Alegreya Sans',Computer Modern, \"Helvetica Neue\", Arial, Helvetica, Geneva, sans-serif;\n",
       "line-height: 135%;\n",
       "font-size: 120%;\n",
       "width:600px;\n",
       "margin-left:auto;\n",
       "margin-right:auto;\n",
       "}\n",
       ".CodeMirror{\n",
       "font-family: \"Source Code Pro\";\n",
       "font-size: 90%;\n",
       "}\n",
       "/* .prompt{\n",
       "display: None;\n",
       "}*/\n",
       ".text_cell_render h1 {\n",
       "font-weight: 200;\n",
       "font-size: 50pt;\n",
       "line-height: 100%;\n",
       "color:#CD2305;\n",
       "margin-bottom: 0.5em;\n",
       "margin-top: 0.5em;\n",
       "display: block;\n",
       "}\t\n",
       ".text_cell_render h5 {\n",
       "font-weight: 300;\n",
       "font-size: 16pt;\n",
       "color: #CD2305;\n",
       "font-style: italic;\n",
       "margin-bottom: .5em;\n",
       "margin-top: 0.5em;\n",
       "display: block;\n",
       "}\n",
       ".warning{\n",
       "color: rgb( 240, 20, 20 )\n",
       "}\n",
       "</style>\n",
       "<script>\n",
       "MathJax.Hub.Config({\n",
       "TeX: {\n",
       "extensions: [\"AMSmath.js\"]\n",
       "},\n",
       "tex2jax: {\n",
       "inlineMath: [ ['$','$'], [\"\\\\(\",\"\\\\)\"] ],\n",
       "displayMath: [ ['$$','$$'], [\"\\\\[\",\"\\\\]\"] ]\n",
       "},\n",
       "displayAlign: 'center', // Change this to 'center' to center equations.\n",
       "\"HTML-CSS\": {\n",
       "styles: {'.MathJax_Display': {\"margin\": 4}}\n",
       "}\n",
       "});\n",
       "</script>\n",
       "\n"
      ],
      "text/plain": [
       "<IPython.core.display.HTML object>"
      ]
     },
     "execution_count": 18,
     "metadata": {},
     "output_type": "execute_result"
    }
   ],
   "source": [
    "# This bit of code is a class added to make the title nice  (thanks to @lorenABarba )\n",
    "from IPython.core.display import HTML\n",
    "def css_styling():\n",
    "    styles = open('./styles/custom_barba.css', 'r').read()\n",
    "    return HTML(styles)\n",
    "css_styling()"
   ]
  },
  {
   "cell_type": "code",
   "execution_count": null,
   "metadata": {
    "collapsed": true
   },
   "outputs": [],
   "source": []
  }
 ],
 "metadata": {
  "celltoolbar": "Raw Cell Format",
  "kernelspec": {
   "display_name": "Python 3",
   "language": "python",
   "name": "python3"
  },
  "language_info": {
   "codemirror_mode": {
    "name": "ipython",
    "version": 3
   },
   "file_extension": ".py",
   "mimetype": "text/x-python",
   "name": "python",
   "nbconvert_exporter": "python",
   "pygments_lexer": "ipython3",
   "version": "3.7.3"
  }
 },
 "nbformat": 4,
 "nbformat_minor": 1
}
