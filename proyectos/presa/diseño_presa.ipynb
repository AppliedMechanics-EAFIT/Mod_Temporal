{
 "cells": [
  {
   "cell_type": "markdown",
   "metadata": {
    "raw_mimetype": "text/latex"
   },
   "source": [
    "Contenido bajo licencia Creative Commons BY 4.0 y código bajo licencia MIT. © Juan Gómez y Nicolás Guarín-Zapata 2020. Este material es parte del curso Modelación computacional en el programa de Ingeniería Civil de la Universidad EAFIT."
   ]
  },
  {
   "cell_type": "markdown",
   "metadata": {},
   "source": [
    "# Diseño de una presa trapezoidal de concreto."
   ]
  },
  {
   "cell_type": "markdown",
   "metadata": {},
   "source": [
    "## Introducción\n",
    "\n",
    "El presente Notebook describe un problema de ingeniería civil cuya solución requiere, además del uso de herramientas de simulación numérica, la aplicación de conceptos de la materias Mecánica de los Medios Continuos y Mecánica de sólidos. El proyecto se enmarca en la modalidad de **Aprendizaje Basado en Proyectos** dentro de la cual se expone a los estudiantes a un problema típico de ingeniería, posiblemente sin solución única y en algunas ocasiones mal formulado.\n",
    "\n",
    "El tema particular del presente proyecto corresponde al diseño de una presa de concreto bajo ciertas restricciones impuestas por las resistencias de los materiales. Como diseño inicial se plantea una presa de forma trapezoidal y para desarrollar el análisis se usa la herramienta por elementos finitos [SolidsPy](https://solidspy.readthedocs.io/en/latest/readme.html). El mayor puntaje lo recibirá la propuesta que obtenga la mayor relación beneficio/costo y que se encuentre acompañada de la mejor justificación física y metodológica.\n",
    "\n",
    "Inicialmente se define el problema en términos de parámetros de materiales, costos de los materiales, y capacidad de generación de energía.\n",
    "\n",
    "\n",
    "Posterioromente se describen varias subrutinas que pueden ser útiles para la solución del problema, aunque en general se espera que los equipos de trabajo desarrollen rutinas adicionales de acuerdo a las necesidades del método de análisis. Posteriormente se describen las rutinas de procesado de mallas y de generación de cargas y en la parte final se muestran los pasos mínimos de un análisis por elementos finitos para un caso partícuar."
   ]
  },
  {
   "cell_type": "markdown",
   "metadata": {},
   "source": [
    "## Aspectos a considerar\n",
    "\n",
    "<div class=\"alert alert-warning\">\n",
    "    \n",
    "En la calificación de los proyectos se tendrán en cuenta los siguientes aspectos:\n",
    "\n",
    "\n",
    "\n",
    "1. Organización, claridad y documentación del Notebook (5%).\n",
    "2. Discusión relativa a la verificación del modelo numérico (5%).\n",
    "3. Calidad de la solución en términos de la relación beneficio/costo. (40%).\n",
    "4. Método de solución usado para llegar al diseño óptimo (50%).\n",
    "\n",
    "\n",
    "\n",
    "\n",
    "\n",
    "</div>\n"
   ]
  },
  {
   "cell_type": "markdown",
   "metadata": {},
   "source": [
    "## Definición del problema.\n",
    "\n",
    "Para atender las demandas de energía de un país se requiere diseñar una presa de concreto de forma trapezoidal (ver figura). Considerando el caudal disponible en la fuente hídrica, la presa debe tener una altura de al menos $100 \\text{ m}$ por lo que se requiere diseñar la misma de manera que ofrezca la mayor relación beneficio/costo. Esta relación se define como\n",
    "\n",
    "$$R=\\frac {E_w}C$$\n",
    "\n",
    "donde $E_w$ es la cantidad de energía producida (medida en megavatios) y $C$ es el costo total (en dolares). La generación de energía incrementa mientras más altura haya en el nivel de agua. Sin embargo, para alturas bajas la eficiencia de generación no son tan buenas. La función que describe la generación es la siguiente\n",
    "\n",
    "$$E_w = 10000 H_p\\left(1 - e^{-H_p/100}\\right)\\, .$$\n",
    "\n",
    "\n",
    "\n",
    "\n",
    "En este sentido, el mejor diseño será aquel que genere la mayor cantidad de energía, con el menor volumen de concreto y por ende con el menor costo.\n",
    "\n",
    "Para el diseño de la presa se deben tener en cuenta las siguientes condiciones.\n",
    "\n",
    "* El metro cúbico de concreto del tipo asumido como material base tiene un costo de 1000 USD. Para calcular el volumen de concreto use $V_c = 1.0\\, A_s$ donde $A_s$ es el área superficial de la presa.\n",
    "\n",
    "* Cada megapascal de aumento en la resistencia a la compresión del concreto tiene un costo de 100 USD.\n",
    "\n",
    "* Cada megapascal de aumento en la resistencia a la tensión del concreto tiene un costo de 500 USD.\n",
    "\n",
    "* Cada megapascal de aumento en la resistencia al corte del concreto tiene un costo de 300 USD.\n",
    "\n",
    "El material base para el concreto de la presa tiene las siguientes propiedades:\n",
    "\n",
    "* Módulo de elasticidad: 50 GPa.\n",
    "\n",
    "* Relación de Poisson: 0.20.\n",
    "\n",
    "* Resistencia a la compresión: 60 MPa.\n",
    "\n",
    "* Resistencia a la tensión: 10 MPa.\n",
    "\n",
    "* Resistencia al corte : 15 MPa.\n",
    "\n",
    "La presa se construirá sobre un basamento  rocoso (basalto asumido elástico y de extensión infinita) con las siguientes propiedades:\n",
    "\n",
    "* Módulo de elasticidad: 60 GPa.\n",
    "\n",
    "* Relación de Poisson: 0.20.\n",
    "\n",
    "Se asume además que:\n",
    "\n",
    "* La presa estará sometida a la acción de la presión hidrostática impartida por un fluido de peso especifico $\\gamma = 9.8 \\text{ kN/m}^3$ y dada por:\n",
    "\n",
    "$$p = \\gamma z$$\n",
    "\n",
    "donde  $z$ es la distancia desde la superficie libre del fluido asumida en la misma cota de la cresta de la presa.\n",
    "\n",
    "* El programa de análisis asume condiciones de deformación plana.\n",
    "\n",
    "* Es posible considerar las fuerzas de cuerpo correspondientes al peso propio de la presa.\n",
    "\n",
    "<center>\n",
    "    <img src=\"img/presa.svg\"\n",
    "         alt=\"Diagrama de la presa.\"\n",
    "         style=\"width:400px\">\n",
    "</center>"
   ]
  },
  {
   "cell_type": "markdown",
   "metadata": {},
   "source": [
    "### Dimensiones del modelo\n",
    "\n",
    "Las dimensiones del modelo son las siguientes:\n",
    "\n",
    "* $H_p $ : es la altura de la presa .\n",
    "\n",
    "* $A_p$ : es el ancho de la pata.\n",
    "\n",
    "* $A_c$ : es el ancho de la cresta.\n",
    "\n",
    "Los paramétros para el rectangulo que representa el suelo no se consideran paramétros de diseño, pero sus valores pueden afectar la precisión de los resultados. Estos se definen como:\n",
    "\n",
    "* $H_s$ : profundidad del deposito de suelo.\n",
    "\n",
    "* $D_l$ : distancia de la frontera izquierda medida desde la pata de la presa.\n",
    "\n",
    "* $D_r$ : distancia de la fronetra derecha medida desde la pata de la presa.\n",
    "\n",
    "\n",
    "<center>\n",
    "    <img src=\"img/presa_dim.svg\"\n",
    "         alt=\"Diagrama de la presa.\"\n",
    "         style=\"width:400px\">\n",
    "</center>"
   ]
  },
  {
   "cell_type": "markdown",
   "metadata": {},
   "source": [
    "## Algunas unidades y equivalencias útiles\n",
    "\n",
    "* $1 \\quad \\text{ N} = 1\\quad \\text{ kg m/s}^2$.\n",
    "\n",
    "* $1\\quad \\text{ Pa} = 1 \\text{ N/m}^2$.\n",
    "\n",
    "* $1\\quad \\text{ kPa} = 1 \\times 10^3 \\text{ Pa}$.\n",
    "\n",
    "* $1\\quad \\text{ MPa} = 1 \\times 10^6 \\text{ Pa}$.\n",
    "\n",
    "* $1\\quad \\text{ GPa} = 1 \\times 10^9 \\text{ Pa}$."
   ]
  },
  {
   "cell_type": "markdown",
   "metadata": {},
   "source": [
    "### Referencias"
   ]
  },
  {
   "cell_type": "markdown",
   "metadata": {},
   "source": [
    "* Juan Gómez, Nicolás Guarín-Zapata (2018). SolidsPy: 2D-Finite Element Analysis with Python, <https://github.com/AppliedMechanics-EAFIT/SolidsPy>."
   ]
  },
  {
   "cell_type": "code",
   "execution_count": 1,
   "metadata": {},
   "outputs": [
    {
     "data": {
      "text/html": [
       "\n",
       "<link href='http://fonts.googleapis.com/css?family=Fenix' rel='stylesheet' type='text/css'>\n",
       "<link href='http://fonts.googleapis.com/css?family=Alegreya+Sans:100,300,400,500,700,800,900,100italic,300italic,400italic,500italic,700italic,800italic,900italic' rel='stylesheet' type='text/css'>\n",
       "<link href='http://fonts.googleapis.com/css?family=Source+Code+Pro:300,400' rel='stylesheet' type='text/css'>\n",
       "\n",
       "<style>\n",
       "\n",
       "/*\n",
       "Template for Notebooks for Modelación computacional.\n",
       "\n",
       "Based on Lorena Barba template available at:\n",
       "\n",
       "    https://github.com/barbagroup/AeroPython/blob/master/styles/custom.css\n",
       "*/\n",
       "\n",
       "/* Fonts */\n",
       "@font-face {\n",
       "font-family: \"Computer Modern\";\n",
       "src: url('http://mirrors.ctan.org/fonts/cm-unicode/fonts/otf/cmunss.otf');\n",
       "}\n",
       "\n",
       "/* Text */\n",
       "div.cell{\n",
       "width:800px;\n",
       "margin-left:16% !important;\n",
       "margin-right:auto;\n",
       "}\n",
       "h1 {\n",
       "font-family: 'Alegreya Sans', sans-serif;\n",
       "}\n",
       "h2 {\n",
       "font-family: 'Fenix', serif;\n",
       "}\n",
       "h3{\n",
       "font-family: 'Fenix', serif;\n",
       "margin-top:12px;\n",
       "margin-bottom: 3px;\n",
       "}\n",
       "h4{\n",
       "font-family: 'Fenix', serif;\n",
       "}\n",
       "h5 {\n",
       "font-family: 'Alegreya Sans', sans-serif;\n",
       "}\t\n",
       "div.text_cell_render{\n",
       "font-family: 'Alegreya Sans',Computer Modern, \"Helvetica Neue\", Arial, Helvetica, Geneva, sans-serif;\n",
       "line-height: 135%;\n",
       "font-size: 120%;\n",
       "width:600px;\n",
       "margin-left:auto;\n",
       "margin-right:auto;\n",
       "}\n",
       ".CodeMirror{\n",
       "font-family: \"Source Code Pro\";\n",
       "font-size: 90%;\n",
       "}\n",
       "/* .prompt{\n",
       "display: None;\n",
       "}*/\n",
       ".text_cell_render h1 {\n",
       "font-weight: 200;\n",
       "font-size: 50pt;\n",
       "line-height: 100%;\n",
       "color:#CD2305;\n",
       "margin-bottom: 0.5em;\n",
       "margin-top: 0.5em;\n",
       "display: block;\n",
       "}\t\n",
       ".text_cell_render h5 {\n",
       "font-weight: 300;\n",
       "font-size: 16pt;\n",
       "color: #CD2305;\n",
       "font-style: italic;\n",
       "margin-bottom: .5em;\n",
       "margin-top: 0.5em;\n",
       "display: block;\n",
       "}\n",
       ".warning{\n",
       "color: rgb( 240, 20, 20 )\n",
       "}\n",
       "</style>\n",
       "\n",
       "<script>\n",
       "/* Equations */\n",
       "\n",
       "MathJax.Hub.Config({\n",
       "TeX: {\n",
       "extensions: [\"AMSmath.js\"]\n",
       "},\n",
       "tex2jax: {\n",
       "inlineMath: [ ['$','$'], [\"\\\\(\",\"\\\\)\"] ],\n",
       "displayMath: [ ['$$','$$'], [\"\\\\[\",\"\\\\]\"] ]\n",
       "},\n",
       "displayAlign: 'center', // Change this to 'center' to center equations.\n",
       "\"HTML-CSS\": {\n",
       "styles: {'.MathJax_Display': {\"margin\": 4}}\n",
       "}\n",
       "});\n",
       "</script>\n",
       "\n",
       "\n"
      ],
      "text/plain": [
       "<IPython.core.display.HTML object>"
      ]
     },
     "execution_count": 1,
     "metadata": {},
     "output_type": "execute_result"
    }
   ],
   "source": [
    "from IPython.core.display import HTML\n",
    "def css_styling():\n",
    "    styles = open('./nb_style.css', 'r').read()\n",
    "    return HTML(styles)\n",
    "css_styling()"
   ]
  }
 ],
 "metadata": {
  "celltoolbar": "Raw Cell Format",
  "kernelspec": {
   "display_name": "Python 3",
   "language": "python",
   "name": "python3"
  },
  "language_info": {
   "codemirror_mode": {
    "name": "ipython",
    "version": 3
   },
   "file_extension": ".py",
   "mimetype": "text/x-python",
   "name": "python",
   "nbconvert_exporter": "python",
   "pygments_lexer": "ipython3",
   "version": "3.8.1"
  },
  "varInspector": {
   "cols": {
    "lenName": 16,
    "lenType": 16,
    "lenVar": 40
   },
   "kernels_config": {
    "python": {
     "delete_cmd_postfix": "",
     "delete_cmd_prefix": "del ",
     "library": "var_list.py",
     "varRefreshCmd": "print(var_dic_list())"
    },
    "r": {
     "delete_cmd_postfix": ") ",
     "delete_cmd_prefix": "rm(",
     "library": "var_list.r",
     "varRefreshCmd": "cat(var_dic_list()) "
    }
   },
   "types_to_exclude": [
    "module",
    "function",
    "builtin_function_or_method",
    "instance",
    "_Feature"
   ],
   "window_display": false
  }
 },
 "nbformat": 4,
 "nbformat_minor": 1
}
