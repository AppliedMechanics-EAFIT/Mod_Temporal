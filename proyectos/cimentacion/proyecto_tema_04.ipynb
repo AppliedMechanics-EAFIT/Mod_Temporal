{
 "cells": [
  {
   "cell_type": "markdown",
   "metadata": {},
   "source": [
    "# Diseño de cimentación para una estructura aporticada\n",
    "\n",
    "## Tema 04"
   ]
  },
  {
   "cell_type": "markdown",
   "metadata": {},
   "source": [
    "## Introducción\n",
    "\n",
    "Una solución óptima al problema de diseño en Ingeniería (Civil) tiene como resultado un producto que sea seguro, funcional y económico. Por ejemplo, en el caso de una estructura se espera que esta sea capaz de soportar de manera segura las cargas externas a las que se verá sometida durante su vida útil y que no presente desplazamientos excesivos que puedan generar incomodidad o daño en los elementos no estructurales.\n",
    "\n",
    "En este proyecto integrador los estudiantes deberán aplicar conceptos y habilidades relacionadas con **Modelación Computacional, Mecánica de los Medios Continuos y Mecánica de Sólidos** para abordar el problema de diseño de un sistema de cimentaciones que soportará una estructura aporticada. El problema constituye un reto ya que los estudiantes deben buscar la solución óptima bajo una serie de restricciones."
   ]
  },
  {
   "cell_type": "markdown",
   "metadata": {},
   "source": [
    "## Definición del problema\n",
    "\n",
    "La estructura aporticada mostrada en la figura y diseñada en la **tarea 02**, va ahora a ser construida por lo que se requiere diseñar su cimentacón.\n",
    "\n",
    "\n",
    "\n",
    "<center>\n",
    "    <img src=\"img/portico.png\"\n",
    "         alt=\"Desplazamientos en el sistema de referencia local\"\n",
    "         style=\"width:500px\">\n",
    "</center>\n",
    "\n",
    "\n",
    "Las dimensiones y cargas para el análisis de la estructura se dan en la Tabla 1 y son las mismas utilizadas en la tarea 02.\n",
    "\n",
    "| $L_1$ | $L_2$ |$L_3$ | $H_1$ |$H_2$ | $H_3$ |$Q_1$ | $Q_2$ | $V_s$ |\n",
    "|:-----:|:-----:|:----:|:---- :|:----:|:-----:|:-------------:|:-----:|:-----:|\n",
    "| 10.0 | 10.0 | 7.0| 4.0 | 3.5| 2.5 | 6.0| 4.0| 2500.0|\n",
    "\n",
    "\n",
    "Para lograr la construcción los propietarios del proyecto ordenan que la empresa de diseño estructural complete también el diseño de la sub-estructura para lo cual ordenan la realización de un estudio de suelos. Este último, realizado con base en exploraciones de campo acompañadas de extracción de muestras y ensayos de laboratorio, revela que para fines de diseño el sitio de desplante puede asumirse conformado por estratos aproximadamente horizontales (ver figura)\n",
    "\n",
    "\n",
    "<center>\n",
    "    <img src=\"img/sitio.png\"\n",
    "         alt=\"Desplazamientos en el sistema de referencia local\"\n",
    "         style=\"width:600px\">\n",
    "</center>\n",
    "\n",
    "\n",
    "\n",
    "\n",
    "y con las siguientes propiedades:\n",
    "\n",
    "\n",
    "<center>\n",
    "    <img src=\"img/perfil_tema_01.png\"\n",
    "         alt=\"Desplazamientos en el sistema de referencia local\"\n",
    "         style=\"width:600px\">\n",
    "</center>"
   ]
  },
  {
   "cell_type": "markdown",
   "metadata": {},
   "source": [
    "## Condiciones de diseño de la sub-estructura\n",
    "\n",
    "Los sistemas de cimentación que podrán ser usados son los siguientes:\n",
    "\n",
    "* (i) Zapatas cuadradas de ancho $B$. Las zapatas podrán tener una profundidad de desplante máxima de 3 m. Identifique la profudidad de desplante (PD) en la figura del pórtico.\n",
    "\n",
    "* (ii) Pilotes cilíndricos de diámetro $50$ cm, $70$ cm y $90$ cm. Los pilotes podrán actuar de manera individual o en grupo.\n",
    "\n",
    "**Se debe garantizar que el asentamiento diferencial entre elementos de cimentación no supere el valor referencial de L/300 (en donde L es la separación entre centros de columna. Use como base para esta distancia las resultantes del diseño del edificio de la tarea 02) y el asentamiento total sea menor que 15 cm.**\n",
    "\n",
    "### Resistencias al corte\n",
    "\n",
    "Las resistencias al corte de los diferentes estratos estan en la siguiente tabla:\n",
    "\n",
    "\n",
    "<center>\n",
    "    <img src=\"img/fuste.png\"\n",
    "         alt=\"Desplazamientos en el sistema de referencia local\"\n",
    "         style=\"width:300px\">\n",
    "</center>\n",
    "\n",
    "### Resistencias por compresión\n",
    "\n",
    "La resistencia a la compresión de los diferentes estratos estan dadas por la expresión:\n",
    "\n",
    "$$ σ_{comp}=0.06 \\sigma_{efec} e^{(0.17* \\phi)}$$\n",
    "\n",
    "en donde $\\sigma_{efec}$ es el esfuerzo efectivo del suelo, calculado como $\\sigma_{efec} = \\gamma z$ y $\\phi$ es el ángulo de fricción (en grados).\n",
    "\n",
    "\n",
    "### Propiedades mecánicas del concreto\n",
    " \n",
    "El material base para el concreto de la cimentación tiene las siguientes propiedades:\n",
    "\n",
    "* Módulo de elasticidad: $2.0 \\, Mtf/m^2$.\n",
    "\n",
    "* Relación de Poisson: 0.20.\n",
    "\n",
    "* Resistencia a la compresión: $2100 \\, tf/m^2$.\n",
    "\n",
    "* Resistencia a la tensión: $2100 \\, tf/m^2$(Este valor no es real y solo es asumido para fines académicos).\n",
    "\n",
    "* Resistencia al corte : $1000 \\, tf/m^2$ (Este valor no es real y solo es asumido para fines académicos).\n"
   ]
  },
  {
   "cell_type": "markdown",
   "metadata": {},
   "source": [
    "### Costo de la sub-estructura\n",
    "\n",
    "Como parte de los resultados del proyecto es necesario especificar el costo total de la sub-estructura teniendo en cuenta las siguientes consideraciones:\n",
    "\n",
    "* El metro cúbico de concreto del tipo asumido como material inicial tiene un costo de $1000$ USD.\n",
    "\n",
    "* El metro cúbico de excavación tiene un costo de $2000$ USD.\n",
    "\n",
    "* Las cimentaciones profundas tienen además un sobre-costo en el diseño de $100$ USD por metro cubico.\n",
    "\n",
    "* Las cimentaciones superficiales no tienen sobre-costo asociado al diseño.\n",
    "\n",
    "* Cada $100 \\, tf/m^2$ de aumento en la resistencia a la compresión (o a la tracción) del concreto tiene un costo de $100$ USD.\n",
    "\n",
    "* Cada $100 \\, tf/m^2$ de aumento en la resistencia al corte del concreto tiene un costo de $300$ USD."
   ]
  },
  {
   "cell_type": "markdown",
   "metadata": {},
   "source": [
    "## Entregables y condiciones de calificación"
   ]
  },
  {
   "cell_type": "markdown",
   "metadata": {},
   "source": [
    "<div class=\"alert alert-warning\">\n",
    "    \n",
    "Cada equipo de trabajo debe someter:\n",
    "\n",
    "1. Informe escrito en formato PDF y en los términos indicados por el profesor de la materia y el cual debe contener como mínimo las siguientes secciones:\n",
    "\n",
    "    - Introducción.\n",
    "    - Revisión literaria (Breve descripción de los diferentes sistemas de cimentación y el estado actual de la práctica).\n",
    "    - Metodología (Explique brevemente que tipo de planteamientos y verificaciones realizó así como las herramientas de análisis y las hipótesis de las mismas. Por ejemplo si utilizó el método de los elementos finitos debe indicar cuales son las hipótesis básicas del método.)\n",
    "    - Resultados.\n",
    "    - Conclusiones.\n",
    "    - Referencias.\n",
    "\n",
    "2. Notebook de Jupyter en el que se incluyan y expliquen todos los análisis usados de manera directa (o indirecta a través de módulos importados) para llegar a la solución. Este notebook debe funcionar sin errores al ser ejecutado. Por ejemplo si utilizó funciones adicionales programadas por usted las debe adicionar al NB ya sea de manera directa o por medio de un modulo. En este último caso incluir el comando de importación del mismo.\n",
    "\n",
    "> Para determinar la calificación final se establecerá una clasificación por puntos de acuerdo con el presupuesto calculado por cada equipo de trabajo. La solución de menor costo y mayor factor de seguridad recibirá el puntaje mayor. Se define acá el Factor de Seguridad como la relación entre la tensión admisible y la tensión máxima aplicada el modelo.\n",
    "\n",
    "> Tenga en cuenta que en el modelo pueden haber infinitos factores de seguridad por lo tanto debe seleccionar los mas conservadores.\n",
    "\n",
    "> Soluciones en las cuales las tensiones sobre los materiales esten por encima de las resistencias especificadas implicarán estados de falla y por lo tanto serán descalificadas llevando a la perdida de los puntos.\n",
    "\n",
    "> Soluciones que sean obtenidas con valores o distribuciones incorrectas de las cargas sobre el modelo, o con dimensiones diferentes a las especificadas para cada grupo serán descalificadas y por ende no recibirán puntos.\n",
    "\n",
    "3. Todos los archivos de entrada al modelo incluyendo archivos de `gmsh`, archivos de tetxo y los correspondientes traductores usando `meshio`.\n",
    "\n",
    "\n",
    "</div>"
   ]
  },
  {
   "cell_type": "markdown",
   "metadata": {},
   "source": [
    "## Herramientas para la solución\n",
    "\n",
    "Como herramienta de cálculo para la realización del análisis de tensiones se debe usar el programa por elementos finitos [SolidsPy](https://solidspy.readthedocs.io/en/latest/readme.html) el cual permite resolver problemas de elasticidad en 2 dimensiones. El programa entrega los resultados a través de imágenes de distribución de los diferentes campos así como sus equivalentes en vectores y matrices disponibles en memoria para realizar operaciones de posprocesado cuando estas sean necesarias."
   ]
  },
  {
   "cell_type": "markdown",
   "metadata": {},
   "source": [
    "## Algunas unidades y equivalencias útiles\n",
    "\n",
    "* $1 \\quad \\text{ N} = 1\\quad \\text{ kg m/s}^2$.\n",
    "\n",
    "* $1\\quad \\text{ Pa} = 1 \\text{ N/m}^2$.\n",
    "\n",
    "* $1\\quad \\text{ kPa} = 1 \\times 10^3 \\text{ Pa}$.\n",
    "\n",
    "* $1\\quad \\text{ MPa} = 1 \\times 10^6 \\text{ Pa}$.\n",
    "\n",
    "* $1\\quad \\text{ GPa} = 1 \\times 10^9 \\text{ Pa}$.\n",
    "\n",
    "* $1 \\quad \\text{ MPa} = 100 tf/m^2$."
   ]
  },
  {
   "cell_type": "markdown",
   "metadata": {},
   "source": [
    "## Estrategia de enseñanza-aprendizaje\n",
    "\n",
    "Este proyecto se enmarca dentro de la modalidad de **Aprendizaje Basado en Proyectos** en la cual se expone a los estudiantes a un problema típico de ingeniería, posiblemente sin solución única y en algunas ocasiones mal formulado. Este contexto permite a los estudiantes aprender de manera activa mediante la conexión con un problema \"real\".\n",
    "\n",
    "El tema particular del presente proyecto corresponde al diseño de un sistema de cimentaciones profundas bajo ciertas restricciones impuestas por las resistencias de los materiales."
   ]
  },
  {
   "cell_type": "markdown",
   "metadata": {},
   "source": [
    "## Referencias"
   ]
  },
  {
   "cell_type": "markdown",
   "metadata": {},
   "source": [
    "* Klaus-Jürgen Bathe (2006). Finite element procedures. Klaus-Jurgen Bathe. Prentice Hall International.\n",
    "\n",
    "* Juan Gómez, Nicolás Guarín-Zapata (2018). SolidsPy: 2D-Finite Element Analysis with Python, <https://github.com/AppliedMechanics-EAFIT/SolidsPy>."
   ]
  },
  {
   "cell_type": "markdown",
   "metadata": {},
   "source": [
    "**Formato del notebook**"
   ]
  },
  {
   "cell_type": "markdown",
   "metadata": {},
   "source": [
    "La siguiente celda cambia el formato del Notebook."
   ]
  },
  {
   "cell_type": "code",
   "execution_count": 1,
   "metadata": {},
   "outputs": [
    {
     "data": {
      "text/html": [
       "<link href=\"https://fonts.googleapis.com/css?family=Merriweather:300,300i,400,400i,700,700i,900,900i\" rel='stylesheet' >\n",
       "<link href=\"https://fonts.googleapis.com/css?family=Source+Sans+Pro:300,300i,400,400i,700,700i\" rel='stylesheet' >\n",
       "<link href='http://fonts.googleapis.com/css?family=Source+Code+Pro:300,400' rel='stylesheet' >\n",
       "<style>\n",
       "\n",
       "@font-face {\n",
       "    font-family: \"Computer Modern\";\n",
       "    src: url('http://mirrors.ctan.org/fonts/cm-unicode/fonts/otf/cmunss.otf');\n",
       "}\n",
       "\n",
       "\n",
       "#notebook_panel { /* main background */\n",
       "    background: rgb(245,245,245);\n",
       "}\n",
       "\n",
       "div.cell { /* set cell width */\n",
       "    width: 800px;\n",
       "}\n",
       "\n",
       "div #notebook { /* centre the content */\n",
       "    background: #fff; /* white background for content */\n",
       "    width: 1000px;\n",
       "    margin: auto;\n",
       "    padding-left: 0em;\n",
       "}\n",
       "\n",
       "#notebook li { /* More space between bullet points */\n",
       "margin-top:0.5em;\n",
       "}\n",
       "\n",
       "/* draw border around running cells */\n",
       "div.cell.border-box-sizing.code_cell.running { \n",
       "    border: 1px solid #111;\n",
       "}\n",
       "\n",
       "/* Put a solid color box around each cell and its output, visually linking them*/\n",
       "div.cell.code_cell {\n",
       "    background-color: rgb(256,256,256); \n",
       "    border-radius: 0px; \n",
       "    padding: 0.5em;\n",
       "    margin-left:1em;\n",
       "    margin-top: 1em;\n",
       "}\n",
       "\n",
       "\n",
       "div.text_cell_render{\n",
       "    font-family: 'Source Sans Pro', sans-serif;\n",
       "    line-height: 140%;\n",
       "    font-size: 110%;\n",
       "    width:680px;\n",
       "    margin-left:auto;\n",
       "    margin-right:auto;\n",
       "}\n",
       "\n",
       "/* Formatting for header cells */\n",
       ".text_cell_render h1 {\n",
       "    font-family: 'Merriweather', serif;\n",
       "    font-style:regular;\n",
       "    font-weight: bold;    \n",
       "    font-size: 250%;\n",
       "    line-height: 100%;\n",
       "    color: #004065;\n",
       "    margin-bottom: 1em;\n",
       "    margin-top: 0.5em;\n",
       "    display: block;\n",
       "}\t\n",
       ".text_cell_render h2 {\n",
       "    font-family: 'Merriweather', serif;\n",
       "    font-weight: bold; \n",
       "    font-size: 180%;\n",
       "    line-height: 100%;\n",
       "    color: #0096d6;\n",
       "    margin-bottom: 0.5em;\n",
       "    margin-top: 0.5em;\n",
       "    display: block;\n",
       "}\t\n",
       "\n",
       ".text_cell_render h3 {\n",
       "    font-family: 'Merriweather', serif;\n",
       "\tfont-size: 150%;\n",
       "    margin-top:12px;\n",
       "    margin-bottom: 3px;\n",
       "    font-style: regular;\n",
       "    color: #008367;\n",
       "}\n",
       "\n",
       ".text_cell_render h4 {    /*Use this for captions*/\n",
       "    font-family: 'Merriweather', serif;\n",
       "    font-weight: 300; \n",
       "    font-size: 100%;\n",
       "    line-height: 120%;\n",
       "    text-align: left;\n",
       "    width:500px;\n",
       "    margin-top: 1em;\n",
       "    margin-bottom: 2em;\n",
       "    margin-left: 80pt;\n",
       "    font-style: regular;\n",
       "}\n",
       "\n",
       ".text_cell_render h5 {  /*Use this for small titles*/\n",
       "    font-family: 'Source Sans Pro', sans-serif;\n",
       "    font-weight: regular;\n",
       "    font-size: 130%;\n",
       "    color: #e31937;\n",
       "    font-style: italic;\n",
       "    margin-bottom: .5em;\n",
       "    margin-top: 1em;\n",
       "    display: block;\n",
       "}\n",
       "\n",
       ".text_cell_render h6 { /*use this for copyright note*/\n",
       "    font-family: 'Source Code Pro', sans-serif;\n",
       "    font-weight: 300;\n",
       "    font-size: 9pt;\n",
       "    line-height: 100%;\n",
       "    color: grey;\n",
       "    margin-bottom: 1px;\n",
       "    margin-top: 1px;\n",
       "}\n",
       "\n",
       "    .CodeMirror{\n",
       "            font-family: \"Source Code Pro\";\n",
       "\t\t\tfont-size: 90%;\n",
       "    }\n",
       "/*    .prompt{\n",
       "        display: None;\n",
       "    }*/\n",
       "\t\n",
       "    \n",
       "    .warning{\n",
       "        color: rgb( 240, 20, 20 )\n",
       "        }  \n",
       "</style>\n",
       "<script>\n",
       "    MathJax.Hub.Config({\n",
       "                        TeX: {\n",
       "                           extensions: [\"AMSmath.js\"], \n",
       "                           equationNumbers: { autoNumber: \"AMS\", useLabelIds: true}\n",
       "                           },\n",
       "                tex2jax: {\n",
       "                    inlineMath: [ ['$','$'], [\"\\\\(\",\"\\\\)\"] ],\n",
       "                    displayMath: [ ['$$','$$'], [\"\\\\[\",\"\\\\]\"] ]\n",
       "                },\n",
       "                displayAlign: 'center', // Change this to 'center' to center equations.\n",
       "                \"HTML-CSS\": {\n",
       "                    styles: {'.MathJax_Display': {\"margin\": 4}}\n",
       "                }\n",
       "        });\n",
       "</script>\n"
      ],
      "text/plain": [
       "<IPython.core.display.HTML object>"
      ]
     },
     "execution_count": 1,
     "metadata": {},
     "output_type": "execute_result"
    }
   ],
   "source": [
    "from IPython.core.display import HTML\n",
    "def css_styling():\n",
    "    styles = open('estilo.css', 'r').read()\n",
    "    return HTML(styles)\n",
    "css_styling()"
   ]
  }
 ],
 "metadata": {
  "celltoolbar": "Raw Cell Format",
  "kernelspec": {
   "display_name": "Python 3",
   "language": "python",
   "name": "python3"
  },
  "language_info": {
   "codemirror_mode": {
    "name": "ipython",
    "version": 3
   },
   "file_extension": ".py",
   "mimetype": "text/x-python",
   "name": "python",
   "nbconvert_exporter": "python",
   "pygments_lexer": "ipython3",
   "version": "3.7.1"
  },
  "varInspector": {
   "cols": {
    "lenName": 16,
    "lenType": 16,
    "lenVar": 40
   },
   "kernels_config": {
    "python": {
     "delete_cmd_postfix": "",
     "delete_cmd_prefix": "del ",
     "library": "var_list.py",
     "varRefreshCmd": "print(var_dic_list())"
    },
    "r": {
     "delete_cmd_postfix": ") ",
     "delete_cmd_prefix": "rm(",
     "library": "var_list.r",
     "varRefreshCmd": "cat(var_dic_list()) "
    }
   },
   "types_to_exclude": [
    "module",
    "function",
    "builtin_function_or_method",
    "instance",
    "_Feature"
   ],
   "window_display": false
  }
 },
 "nbformat": 4,
 "nbformat_minor": 1
}
