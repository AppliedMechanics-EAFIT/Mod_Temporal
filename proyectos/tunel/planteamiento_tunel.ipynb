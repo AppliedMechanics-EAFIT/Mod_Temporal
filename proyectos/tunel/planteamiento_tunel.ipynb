{
 "cells": [
  {
   "cell_type": "markdown",
   "metadata": {
    "raw_mimetype": "text/latex"
   },
   "source": [
    "Contenido bajo licencia Creative Commons BY 4.0 y código bajo licencia MIT. © Juan Gómez y Nicolás Guarín-Zapata 2020. Este material es parte del curso Modelación computacional en el programa de Ingeniería Civil de la Universidad EAFIT."
   ]
  },
  {
   "cell_type": "markdown",
   "metadata": {},
   "source": [
    "# Diseño de un tunel de concreto"
   ]
  },
  {
   "cell_type": "markdown",
   "metadata": {},
   "source": [
    "## Introducción"
   ]
  },
  {
   "cell_type": "markdown",
   "metadata": {},
   "source": [
    "Una solución óptima al problema de diseño en Ingeniería (Civil) tiene como resultado un producto que es seguro, funcional y económico. Por ejemplo, en el caso de una estructura se espera que esta sea capaz de soportar de manera segura las cargas externas a las que se verá sometida durante su vida útil y que no presente desplazamientos excesivos que puedan generar incomodidad o sensación de inseguridad a sus ocupantes.\n",
    "\n",
    "En el proyecto integrador que se formula en este documento los estudiantes deberán aplicar conceptos y habilidades relacionadas con **Modelación Computacional, Mecánica de los Medios Continuos y Mecánica de Sólidos** para resolver un problema de diseño de un tunel de concreto. El problema constituye un reto ya que los estudiantes deben buscar la solución óptima dada una serie de restricciones."
   ]
  },
  {
   "cell_type": "markdown",
   "metadata": {},
   "source": [
    "## Estrategia de enseñanza-aprendizaje"
   ]
  },
  {
   "cell_type": "markdown",
   "metadata": {},
   "source": [
    "Este proyecto se enmarca dentro de la modalidad de **Aprendizaje Basado en Proyectos** en la cual se expone a los estudiantes a un problema típico de ingeniería, posiblemente sin solución única y en algunas ocasiones mal formulado. Este contexto permite a los estudiantes aprender de manera activa mediante la conexión con un problema \"real\".\n",
    "\n",
    "El tema particular del presente proyecto corresponde al diseño de un tunel de concreto bajo ciertas restricciones impuestas por las resistencias de los materiales. Como diseño inicial se plantea un tunel de sección transversal rectangular."
   ]
  },
  {
   "cell_type": "markdown",
   "metadata": {},
   "source": [
    "## Definición del problema"
   ]
  },
  {
   "attachments": {},
   "cell_type": "markdown",
   "metadata": {},
   "source": [
    "Con el fin de generar un acceso independiente a una corriente a presión es necesario diseñar un túnel de concreto al interior de un masizo rocoso. La zona permitida para la excavación del túnel es la que se muestra en la figura. Tenga en cuenta que no es permitida la realización de ninguna excavación por fuera de esta zona.\n",
    "\n",
    "Se sabe también que sobre la parte superior del masizo pasa una vía de ancho $a$ y localizada con respecto a la zona de excavación de acuerdo con las distancias $D$ y $H$. La vía transmite sobre el masizo tracciones que se distribuyen de manera uniforme sobre las regiones mostradas del masizo y de amplitudes $W_1$ y $W_2$.\n",
    "\n",
    "\n",
    "<center>\n",
    "    <img src=\"images/tunel.png\"\n",
    "         alt=\"Diagrama de la presa.\"\n",
    "         style=\"width:800px\">\n",
    "</center>\n",
    "\n",
    "\n",
    "\n",
    "El volumen mínimo de fluido que debe pasar por el tunel es igual a:\n",
    "\n",
    "$$V = A \\times t$$\n",
    "\n",
    "donde $A$ es el área de la sección transversal y $t$ es la profundidad en la dirección perpendicular al plano de la imagen. Para condiciones de deformación plana puede asumir $t = 1.0$ lo cual es valido si es que la sección de análisis esta lo suficientemente alejada de los extremos del túnel. El fluido impone sobre las paredes del túnel presiones hidroestaticas de magnitud $p$.\n",
    "\n",
    "\n",
    "Se requiere diseñar el túnel que ofrezca la mayor relación beneficio/costo. Esta relación se define como\n",
    "\n",
    "$$R=\\frac {V}C$$\n",
    "\n",
    "donde $C$ es el $C$ costo total (en dólares) de construcción del proyecto. El mejor diseño será aquel que permita transportar el mayor volumen de fluido con el menor costo de construcción.\n",
    "\n",
    "Para el diseño del túnel se deben tener en cuenta las siguientes condiciones.\n",
    "\n",
    "* El metro cúbico de concreto del tipo asumido como material inicial tiene un costo de $1000$ USD. Para calcular el volumen de concreto use la expresión $V_c = 1.0\\, A_s$ donde $A_s$ es el área de la sección transversal de revestimiento del túnel.\n",
    "\n",
    "* El metro cúbico de excavación tiene un costo de $2000$ USD. Para calcular el volumen de excavación use la expresión $V_e = 1.0\\, A_e$ donde $A_e$ es el área de la sección transversal excavada.\n",
    "\n",
    "* Cada megapascal de aumento en la resistencia a la compresión del concreto tiene un costo de $100$ USD.\n",
    "\n",
    "* Cada megapascal de aumento en la resistencia a la tensión del concreto tiene un costo de $500$ USD.\n",
    "\n",
    "* Cada megapascal de aumento en la resistencia al corte del concreto tiene un costo de $300$ USD.\n",
    "\n",
    "* El proceso constructivo tiene un sobre costo de $200$ USD por cada metro lineal de túnel si es que este tiene superficies curvas. Si las paredes son rectas el proceso constructivo esta incluido como parte de la excavación.\n",
    "\n",
    "\n",
    "El material base para el concreto del túnel tiene las siguientes propiedades:\n",
    "\n",
    "* Módulo de elasticidad: 50 GPa.\n",
    "\n",
    "* Relación de Poisson: 0.20.\n",
    "\n",
    "* Resistencia a la compresión: 60 MPa.\n",
    "\n",
    "* Resistencia a la tensión: 10 MPa.\n",
    "\n",
    "* Resistencia al corte : 15 MPa.\n",
    "\n",
    "El túnel se construirá sobre un basamento rocoso (basalto asumido elástico y de extensión infinita) con las siguientes propiedades:\n",
    "\n",
    "* Módulo de elasticidad: 60 GPa.\n",
    "\n",
    "* Relación de Poisson: 0.20.\n",
    "\n",
    "Se asume además que:\n",
    "\n",
    "* El túnel estará sometida a la acción de la presión hidrostática impartida por un fluido de peso especifico $\\gamma = 9.8 \\text{ kN/m}^3$ y dada por:\n",
    "\n",
    "$$p = \\gamma z$$\n",
    "\n",
    "donde  $z$ es la distancia desde la superficie libre del basamento.\n",
    "\n",
    "* El programa de análisis asume condiciones de deformación plana.\n",
    "\n",
    "* En el análisis es necesario considerar las fuerzas de cuerpo correspondientes al peso propio del masizo rocoso.\n",
    "\n",
    "* Tenga en cuenta que en el caso real el masizo rocoso puede considerarse infinito con respecto a las dimensiones del túnel y de la vía, sin embargo en el modelo por elementos finitos este masizo debe truncarse generando posibles errores en la solución."
   ]
  },
  {
   "cell_type": "markdown",
   "metadata": {},
   "source": [
    "## Dimensiones del modelo"
   ]
  },
  {
   "cell_type": "markdown",
   "metadata": {},
   "source": [
    "Las dimensiones del modelo son las siguientes:\n",
    "\n",
    "* $H $ : Profundidad de la zona de excavación del túnel con respecto a la superficie libre del masizo.\n",
    "\n",
    "* $D$  : Distancia horizontal de la zona de excavación del túnel con respecto al límite de la vía.\n",
    "\n",
    "* $b$ : ancho máximo posible de la zona de excavación.\n",
    "\n",
    "* $h$ : altura máxima posible de la zona de excavación.\n",
    "\n",
    "* $a$ : ancho de la vía en la superficie libre del masizo.\n",
    "\n",
    "* $d$ : distancia entre zonas de concentración de tensiones en la vía.\n",
    "\n",
    "* $W_1$ : Fuerza por unidad de superficie principal debida al paso de vehiculos.\n",
    "\n",
    "* $W_2$ : Sobre-fuerza por unidad de superficie debida al paso de vehiculos."
   ]
  },
  {
   "cell_type": "markdown",
   "metadata": {},
   "source": [
    "## Entregables y conidiciones de calificación"
   ]
  },
  {
   "cell_type": "markdown",
   "metadata": {},
   "source": [
    "<div class=\"alert alert-warning\">\n",
    "    \n",
    "Cada equipo de trabajo debe someter:\n",
    "\n",
    "1. Informe escrito en formato PDF y en los términos indicados por el profesor de la materia y el cual debe contener como mínimo las siguientes secciones:\n",
    "\n",
    "    - Introducción;\n",
    "    - Revisión literaria;\n",
    "    - Metodología;\n",
    "    - Resultados;\n",
    "    - Conclusiones; y\n",
    "    - Referencias.\n",
    "\n",
    "2. Notebook de Jupyter en el que se incluyan y expliquen todos los análisis usados de manera directa (o indirecta a través de módulos importados) para llegar a la solución. Este notebook debe funcionar sin errores al ser ejecutado.\n",
    "\n",
    "Adicionalmente debe hacerse un proceso de verificación de las soluciones obtenidas. Esto puede realizarse a través de:\n",
    "\n",
    "1. verificaciones de equilibrio;\n",
    "\n",
    "2. comparaciones con soluciones analíticas; o\n",
    "\n",
    "3. visualizaciones de diferentes tipos.\n",
    "\n",
    "**Para determinar la calificación final se establecerá una clasificación por puntos de acuerdo con la relación beneficio/costo obtenida por cada equipo de trabajo. La mayor relación recibirá un puntaje de 50 puntos**\n",
    "\n",
    "**Soluciones que esten por fuera de la zona de excavación o aquellas en las cuales las tensiones sobre los materiales esten por encima de las resistencias especificadas serán descalificadas y por ende recibirán una nota de 0.0.**\n",
    "\n",
    "**Soluciones que sean obtenidas con valores o distribuciones incorrectas de las cargas sobre el modelo serán descalificadas y por ende recibirán una nota de 0.0.**\n",
    "\n",
    "\n",
    "</div>"
   ]
  },
  {
   "cell_type": "markdown",
   "metadata": {},
   "source": [
    "## Herramientas para la solución.\n",
    "\n"
   ]
  },
  {
   "cell_type": "markdown",
   "metadata": {},
   "source": [
    "Como herramienta de cálculo para la realización del análisis de tensiones se debe usar el programa por elementos finitos [SolidsPy](https://solidspy.readthedocs.io/en/latest/readme.html) el cual permite resolver problemas de elasticidad en 2 dimensiones. El programa entrega los resultados a través de imágenes de distribución de los diferentes campos así como sus equivalentes en vectores y matrices disponibles en memoria para realizar operaciones de posprocesado."
   ]
  },
  {
   "cell_type": "markdown",
   "metadata": {},
   "source": [
    "## Algunas unidades y equivalencias útiles\n",
    "\n",
    "* $1 \\quad \\text{ N} = 1\\quad \\text{ kg m/s}^2$.\n",
    "\n",
    "* $1\\quad \\text{ Pa} = 1 \\text{ N/m}^2$.\n",
    "\n",
    "* $1\\quad \\text{ kPa} = 1 \\times 10^3 \\text{ Pa}$.\n",
    "\n",
    "* $1\\quad \\text{ MPa} = 1 \\times 10^6 \\text{ Pa}$.\n",
    "\n",
    "* $1\\quad \\text{ GPa} = 1 \\times 10^9 \\text{ Pa}$."
   ]
  },
  {
   "cell_type": "markdown",
   "metadata": {},
   "source": [
    "## Referencias"
   ]
  },
  {
   "cell_type": "markdown",
   "metadata": {},
   "source": [
    "* Juan Gómez, Nicolás Guarín-Zapata (2018). SolidsPy: 2D-Finite Element Analysis with Python, <https://github.com/AppliedMechanics-EAFIT/SolidsPy>."
   ]
  },
  {
   "cell_type": "code",
   "execution_count": 2,
   "metadata": {},
   "outputs": [
    {
     "data": {
      "text/html": [
       "<link href=\"https://fonts.googleapis.com/css?family=Merriweather:300,300i,400,400i,700,700i,900,900i\" rel='stylesheet' >\n",
       "<link href=\"https://fonts.googleapis.com/css?family=Source+Sans+Pro:300,300i,400,400i,700,700i\" rel='stylesheet' >\n",
       "<link href='http://fonts.googleapis.com/css?family=Source+Code+Pro:300,400' rel='stylesheet' >\n",
       "<style>\n",
       "\n",
       "@font-face {\n",
       "    font-family: \"Computer Modern\";\n",
       "    src: url('http://mirrors.ctan.org/fonts/cm-unicode/fonts/otf/cmunss.otf');\n",
       "}\n",
       "\n",
       "\n",
       "#notebook_panel { /* main background */\n",
       "    background: rgb(245,245,245);\n",
       "}\n",
       "\n",
       "div.cell { /* set cell width */\n",
       "    width: 800px;\n",
       "}\n",
       "\n",
       "div #notebook { /* centre the content */\n",
       "    background: #fff; /* white background for content */\n",
       "    width: 1000px;\n",
       "    margin: auto;\n",
       "    padding-left: 0em;\n",
       "}\n",
       "\n",
       "#notebook li { /* More space between bullet points */\n",
       "margin-top:0.5em;\n",
       "}\n",
       "\n",
       "/* draw border around running cells */\n",
       "div.cell.border-box-sizing.code_cell.running { \n",
       "    border: 1px solid #111;\n",
       "}\n",
       "\n",
       "/* Put a solid color box around each cell and its output, visually linking them*/\n",
       "div.cell.code_cell {\n",
       "    background-color: rgb(256,256,256); \n",
       "    border-radius: 0px; \n",
       "    padding: 0.5em;\n",
       "    margin-left:1em;\n",
       "    margin-top: 1em;\n",
       "}\n",
       "\n",
       "\n",
       "div.text_cell_render{\n",
       "    font-family: 'Source Sans Pro', sans-serif;\n",
       "    line-height: 140%;\n",
       "    font-size: 110%;\n",
       "    width:680px;\n",
       "    margin-left:auto;\n",
       "    margin-right:auto;\n",
       "}\n",
       "\n",
       "/* Formatting for header cells */\n",
       ".text_cell_render h1 {\n",
       "    font-family: 'Merriweather', serif;\n",
       "    font-style:regular;\n",
       "    font-weight: bold;    \n",
       "    font-size: 250%;\n",
       "    line-height: 100%;\n",
       "    color: #004065;\n",
       "    margin-bottom: 1em;\n",
       "    margin-top: 0.5em;\n",
       "    display: block;\n",
       "}\t\n",
       ".text_cell_render h2 {\n",
       "    font-family: 'Merriweather', serif;\n",
       "    font-weight: bold; \n",
       "    font-size: 180%;\n",
       "    line-height: 100%;\n",
       "    color: #0096d6;\n",
       "    margin-bottom: 0.5em;\n",
       "    margin-top: 0.5em;\n",
       "    display: block;\n",
       "}\t\n",
       "\n",
       ".text_cell_render h3 {\n",
       "    font-family: 'Merriweather', serif;\n",
       "\tfont-size: 150%;\n",
       "    margin-top:12px;\n",
       "    margin-bottom: 3px;\n",
       "    font-style: regular;\n",
       "    color: #008367;\n",
       "}\n",
       "\n",
       ".text_cell_render h4 {    /*Use this for captions*/\n",
       "    font-family: 'Merriweather', serif;\n",
       "    font-weight: 300; \n",
       "    font-size: 100%;\n",
       "    line-height: 120%;\n",
       "    text-align: left;\n",
       "    width:500px;\n",
       "    margin-top: 1em;\n",
       "    margin-bottom: 2em;\n",
       "    margin-left: 80pt;\n",
       "    font-style: regular;\n",
       "}\n",
       "\n",
       ".text_cell_render h5 {  /*Use this for small titles*/\n",
       "    font-family: 'Source Sans Pro', sans-serif;\n",
       "    font-weight: regular;\n",
       "    font-size: 130%;\n",
       "    color: #e31937;\n",
       "    font-style: italic;\n",
       "    margin-bottom: .5em;\n",
       "    margin-top: 1em;\n",
       "    display: block;\n",
       "}\n",
       "\n",
       ".text_cell_render h6 { /*use this for copyright note*/\n",
       "    font-family: 'Source Code Pro', sans-serif;\n",
       "    font-weight: 300;\n",
       "    font-size: 9pt;\n",
       "    line-height: 100%;\n",
       "    color: grey;\n",
       "    margin-bottom: 1px;\n",
       "    margin-top: 1px;\n",
       "}\n",
       "\n",
       "    .CodeMirror{\n",
       "            font-family: \"Source Code Pro\";\n",
       "\t\t\tfont-size: 90%;\n",
       "    }\n",
       "/*    .prompt{\n",
       "        display: None;\n",
       "    }*/\n",
       "\t\n",
       "    \n",
       "    .warning{\n",
       "        color: rgb( 240, 20, 20 )\n",
       "        }  \n",
       "</style>\n",
       "<script>\n",
       "    MathJax.Hub.Config({\n",
       "                        TeX: {\n",
       "                           extensions: [\"AMSmath.js\"], \n",
       "                           equationNumbers: { autoNumber: \"AMS\", useLabelIds: true}\n",
       "                           },\n",
       "                tex2jax: {\n",
       "                    inlineMath: [ ['$','$'], [\"\\\\(\",\"\\\\)\"] ],\n",
       "                    displayMath: [ ['$$','$$'], [\"\\\\[\",\"\\\\]\"] ]\n",
       "                },\n",
       "                displayAlign: 'center', // Change this to 'center' to center equations.\n",
       "                \"HTML-CSS\": {\n",
       "                    styles: {'.MathJax_Display': {\"margin\": 4}}\n",
       "                }\n",
       "        });\n",
       "</script>\n"
      ],
      "text/plain": [
       "<IPython.core.display.HTML object>"
      ]
     },
     "execution_count": 2,
     "metadata": {},
     "output_type": "execute_result"
    }
   ],
   "source": [
    "# Execute this cell to load the notebook's style sheet, then ignore it\n",
    "from IPython.core.display import HTML\n",
    "css_file = 'styles/custom.css'\n",
    "HTML(open(css_file, \"r\").read())"
   ]
  }
 ],
 "metadata": {
  "celltoolbar": "Raw Cell Format",
  "kernelspec": {
   "display_name": "Python 3",
   "language": "python",
   "name": "python3"
  },
  "language_info": {
   "codemirror_mode": {
    "name": "ipython",
    "version": 3
   },
   "file_extension": ".py",
   "mimetype": "text/x-python",
   "name": "python",
   "nbconvert_exporter": "python",
   "pygments_lexer": "ipython3",
   "version": "3.7.3"
  },
  "varInspector": {
   "cols": {
    "lenName": 16,
    "lenType": 16,
    "lenVar": 40
   },
   "kernels_config": {
    "python": {
     "delete_cmd_postfix": "",
     "delete_cmd_prefix": "del ",
     "library": "var_list.py",
     "varRefreshCmd": "print(var_dic_list())"
    },
    "r": {
     "delete_cmd_postfix": ") ",
     "delete_cmd_prefix": "rm(",
     "library": "var_list.r",
     "varRefreshCmd": "cat(var_dic_list()) "
    }
   },
   "types_to_exclude": [
    "module",
    "function",
    "builtin_function_or_method",
    "instance",
    "_Feature"
   ],
   "window_display": false
  }
 },
 "nbformat": 4,
 "nbformat_minor": 1
}
